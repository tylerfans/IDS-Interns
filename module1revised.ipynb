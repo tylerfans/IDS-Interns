{
 "cells": [
  {
   "cell_type": "markdown",
   "id": "d5610172",
   "metadata": {},
   "source": [
    "# Run The Following Cells, But DO NOT WORRY ABOUT THE CODE!"
   ]
  },
  {
   "cell_type": "markdown",
   "id": "038e66d9",
   "metadata": {},
   "source": [
    "If you have never used this notebook before, start by running this cell to install the necessary packages."
   ]
  },
  {
   "cell_type": "code",
   "execution_count": 1,
   "id": "d0017feb",
   "metadata": {
    "scrolled": true
   },
   "outputs": [
    {
     "name": "stdout",
     "output_type": "stream",
     "text": [
      "package 'ggplot2' successfully unpacked and MD5 sums checked\n",
      "\n",
      "The downloaded binary packages are in\n",
      "\tC:\\Users\\tyefa\\AppData\\Local\\Temp\\RtmpyoGGWY\\downloaded_packages\n",
      "\n",
      "  There is a binary version available but the source version is later:\n",
      "      binary source needs_compilation\n",
      "dplyr  1.0.6  1.0.7              TRUE\n",
      "\n",
      "  Binaries will be installed\n",
      "package 'dplyr' successfully unpacked and MD5 sums checked\n",
      "\n",
      "The downloaded binary packages are in\n",
      "\tC:\\Users\\tyefa\\AppData\\Local\\Temp\\RtmpyoGGWY\\downloaded_packages\n",
      "package 'readxl' successfully unpacked and MD5 sums checked\n",
      "\n",
      "The downloaded binary packages are in\n",
      "\tC:\\Users\\tyefa\\AppData\\Local\\Temp\\RtmpyoGGWY\\downloaded_packages\n",
      "package 'lubridate' successfully unpacked and MD5 sums checked\n",
      "\n",
      "The downloaded binary packages are in\n",
      "\tC:\\Users\\tyefa\\AppData\\Local\\Temp\\RtmpyoGGWY\\downloaded_packages\n"
     ]
    }
   ],
   "source": [
    "install.packages(\"ggplot2\")\n",
    "install.packages(\"dplyr\")\n",
    "install.packages(\"readxl\")\n",
    "install.packages(\"lubridate\")"
   ]
  },
  {
   "cell_type": "markdown",
   "id": "83d1ba91",
   "metadata": {},
   "source": [
    "Load these libraries. They are needed to access our data file and make the graphs."
   ]
  },
  {
   "cell_type": "code",
   "execution_count": 6,
   "id": "2dd7a95f",
   "metadata": {},
   "outputs": [],
   "source": [
    "library(readxl)\n",
    "library(ggplot2)\n",
    "library(dplyr)\n",
    "library(lubridate)"
   ]
  },
  {
   "cell_type": "markdown",
   "id": "5283f29c",
   "metadata": {},
   "source": [
    "Load in the data set that you downloaded."
   ]
  },
  {
   "cell_type": "code",
   "execution_count": 7,
   "id": "8c235859",
   "metadata": {},
   "outputs": [
    {
     "data": {
      "text/html": [
       "<table class=\"dataframe\">\n",
       "<caption>A tibble: 6 × 17</caption>\n",
       "<thead>\n",
       "\t<tr><th scope=col>CaseNumber</th><th scope=col>DateLogged</th><th scope=col>DateReported</th><th scope=col>TimeReported</th><th scope=col>DateIncidentBegan</th><th scope=col>TmeIncidentBegan</th><th scope=col>DateIncidentEnded</th><th scope=col>TimeIncidentEnded</th><th scope=col>Location</th><th scope=col>IncidentType</th><th scope=col>CriminalOffense</th><th scope=col>Disposition</th><th scope=col>Latitude</th><th scope=col>Longitude</th><th scope=col>BuildingName</th><th scope=col>LocationType</th><th scope=col>CampusZone</th></tr>\n",
       "\t<tr><th scope=col>&lt;chr&gt;</th><th scope=col>&lt;chr&gt;</th><th scope=col>&lt;chr&gt;</th><th scope=col>&lt;chr&gt;</th><th scope=col>&lt;chr&gt;</th><th scope=col>&lt;chr&gt;</th><th scope=col>&lt;chr&gt;</th><th scope=col>&lt;chr&gt;</th><th scope=col>&lt;chr&gt;</th><th scope=col>&lt;chr&gt;</th><th scope=col>&lt;chr&gt;</th><th scope=col>&lt;chr&gt;</th><th scope=col>&lt;dbl&gt;</th><th scope=col>&lt;dbl&gt;</th><th scope=col>&lt;chr&gt;</th><th scope=col>&lt;chr&gt;</th><th scope=col>&lt;chr&gt;</th></tr>\n",
       "</thead>\n",
       "<tbody>\n",
       "\t<tr><td>2015-00001265</td><td>07/01/2015</td><td>07/01/2015</td><td>12:47</td><td>07/01/2015</td><td>12:47</td><td>07/01/2015</td><td>12:47</td><td>30TH ST /  COLORADO AVE </td><td>Traffic Offense  </td><td>DROVE VEHICLE WHILE LICENSE UNDER RESTRAINT (SUSPENDED/REVOKED/DENIED)</td><td>Cleared - Summons</td><td>40.00784</td><td>-105.2534</td><td>0                                </td><td>0          </td><td>0             </td></tr>\n",
       "\t<tr><td>2015-00001266</td><td>07/01/2015</td><td>07/01/2015</td><td>13:44</td><td>06/01/2015</td><td>00:00</td><td>06/29/2015</td><td>00:00</td><td>1111 ENGINEERING DR     </td><td>Theft            </td><td>THEFT $750 OR MORE BUT LESS THAN $2,000 - OTHER (MISDEMEANOR)         </td><td>No Further Action</td><td>40.00717</td><td>-105.2627</td><td>ENGINEERING CENTER               </td><td>Academic   </td><td>Central Campus</td></tr>\n",
       "\t<tr><td>2015-00001269</td><td>07/01/2015</td><td>07/01/2015</td><td>17:28</td><td>07/01/2015</td><td>17:28</td><td>07/01/2015</td><td>17:28</td><td>1515 CENTRAL CAMPUS MALL</td><td>Criminal Trespass</td><td>TRESPASS                                                              </td><td>No Further Action</td><td>40.00808</td><td>-105.2736</td><td>UNIVERSITY THEATRE               </td><td>Academic   </td><td>Central Campus</td></tr>\n",
       "\t<tr><td>2015-00008155</td><td>07/01/2015</td><td>06/29/2015</td><td>19:08</td><td>06/28/2015</td><td>20:30</td><td>06/28/2015</td><td>20:30</td><td>2200 WILLARD LOOP DR    </td><td>Criminal Mischief</td><td>GRAFFITI PROHIBITED ON ANY PROPERTY                                   </td><td>No Further Action</td><td>40.00521</td><td>-105.2663</td><td>WILLARD HALL                     </td><td>Residential</td><td>Central Campus</td></tr>\n",
       "\t<tr><td>2015-00001272</td><td>07/01/2015</td><td>07/02/2015</td><td>21:05</td><td>07/02/2015</td><td>20:50</td><td>07/02/2015</td><td>21:05</td><td>1060 REGENT DR          </td><td>Other Offense    </td><td>POSSESSING/SELLING OF ALCOHOL BY MINORS                               </td><td>Cleared - Summons</td><td>40.00685</td><td>-105.2597</td><td>GROUNDS RECYCLING OPERATIONS CNTR</td><td>Facilities </td><td>Central Campus</td></tr>\n",
       "\t<tr><td>2015-00001272</td><td>07/01/2015</td><td>07/02/2015</td><td>21:05</td><td>07/02/2015</td><td>20:50</td><td>07/02/2015</td><td>21:05</td><td>1060 REGENT DR          </td><td>Other Offense    </td><td>URINATING IN PUBLIC                                                   </td><td>Cleared - Summons</td><td>40.00685</td><td>-105.2597</td><td>GROUNDS RECYCLING OPERATIONS CNTR</td><td>Facilities </td><td>Central Campus</td></tr>\n",
       "</tbody>\n",
       "</table>\n"
      ],
      "text/latex": [
       "A tibble: 6 × 17\n",
       "\\begin{tabular}{lllllllllllllllll}\n",
       " CaseNumber & DateLogged & DateReported & TimeReported & DateIncidentBegan & TmeIncidentBegan & DateIncidentEnded & TimeIncidentEnded & Location & IncidentType & CriminalOffense & Disposition & Latitude & Longitude & BuildingName & LocationType & CampusZone\\\\\n",
       " <chr> & <chr> & <chr> & <chr> & <chr> & <chr> & <chr> & <chr> & <chr> & <chr> & <chr> & <chr> & <dbl> & <dbl> & <chr> & <chr> & <chr>\\\\\n",
       "\\hline\n",
       "\t 2015-00001265 & 07/01/2015 & 07/01/2015 & 12:47 & 07/01/2015 & 12:47 & 07/01/2015 & 12:47 & 30TH ST /  COLORADO AVE  & Traffic Offense   & DROVE VEHICLE WHILE LICENSE UNDER RESTRAINT (SUSPENDED/REVOKED/DENIED) & Cleared - Summons & 40.00784 & -105.2534 & 0                                 & 0           & 0             \\\\\n",
       "\t 2015-00001266 & 07/01/2015 & 07/01/2015 & 13:44 & 06/01/2015 & 00:00 & 06/29/2015 & 00:00 & 1111 ENGINEERING DR      & Theft             & THEFT \\$750 OR MORE BUT LESS THAN \\$2,000 - OTHER (MISDEMEANOR)          & No Further Action & 40.00717 & -105.2627 & ENGINEERING CENTER                & Academic    & Central Campus\\\\\n",
       "\t 2015-00001269 & 07/01/2015 & 07/01/2015 & 17:28 & 07/01/2015 & 17:28 & 07/01/2015 & 17:28 & 1515 CENTRAL CAMPUS MALL & Criminal Trespass & TRESPASS                                                               & No Further Action & 40.00808 & -105.2736 & UNIVERSITY THEATRE                & Academic    & Central Campus\\\\\n",
       "\t 2015-00008155 & 07/01/2015 & 06/29/2015 & 19:08 & 06/28/2015 & 20:30 & 06/28/2015 & 20:30 & 2200 WILLARD LOOP DR     & Criminal Mischief & GRAFFITI PROHIBITED ON ANY PROPERTY                                    & No Further Action & 40.00521 & -105.2663 & WILLARD HALL                      & Residential & Central Campus\\\\\n",
       "\t 2015-00001272 & 07/01/2015 & 07/02/2015 & 21:05 & 07/02/2015 & 20:50 & 07/02/2015 & 21:05 & 1060 REGENT DR           & Other Offense     & POSSESSING/SELLING OF ALCOHOL BY MINORS                                & Cleared - Summons & 40.00685 & -105.2597 & GROUNDS RECYCLING OPERATIONS CNTR & Facilities  & Central Campus\\\\\n",
       "\t 2015-00001272 & 07/01/2015 & 07/02/2015 & 21:05 & 07/02/2015 & 20:50 & 07/02/2015 & 21:05 & 1060 REGENT DR           & Other Offense     & URINATING IN PUBLIC                                                    & Cleared - Summons & 40.00685 & -105.2597 & GROUNDS RECYCLING OPERATIONS CNTR & Facilities  & Central Campus\\\\\n",
       "\\end{tabular}\n"
      ],
      "text/markdown": [
       "\n",
       "A tibble: 6 × 17\n",
       "\n",
       "| CaseNumber &lt;chr&gt; | DateLogged &lt;chr&gt; | DateReported &lt;chr&gt; | TimeReported &lt;chr&gt; | DateIncidentBegan &lt;chr&gt; | TmeIncidentBegan &lt;chr&gt; | DateIncidentEnded &lt;chr&gt; | TimeIncidentEnded &lt;chr&gt; | Location &lt;chr&gt; | IncidentType &lt;chr&gt; | CriminalOffense &lt;chr&gt; | Disposition &lt;chr&gt; | Latitude &lt;dbl&gt; | Longitude &lt;dbl&gt; | BuildingName &lt;chr&gt; | LocationType &lt;chr&gt; | CampusZone &lt;chr&gt; |\n",
       "|---|---|---|---|---|---|---|---|---|---|---|---|---|---|---|---|---|\n",
       "| 2015-00001265 | 07/01/2015 | 07/01/2015 | 12:47 | 07/01/2015 | 12:47 | 07/01/2015 | 12:47 | 30TH ST /  COLORADO AVE  | Traffic Offense   | DROVE VEHICLE WHILE LICENSE UNDER RESTRAINT (SUSPENDED/REVOKED/DENIED) | Cleared - Summons | 40.00784 | -105.2534 | 0                                 | 0           | 0              |\n",
       "| 2015-00001266 | 07/01/2015 | 07/01/2015 | 13:44 | 06/01/2015 | 00:00 | 06/29/2015 | 00:00 | 1111 ENGINEERING DR      | Theft             | THEFT $750 OR MORE BUT LESS THAN $2,000 - OTHER (MISDEMEANOR)          | No Further Action | 40.00717 | -105.2627 | ENGINEERING CENTER                | Academic    | Central Campus |\n",
       "| 2015-00001269 | 07/01/2015 | 07/01/2015 | 17:28 | 07/01/2015 | 17:28 | 07/01/2015 | 17:28 | 1515 CENTRAL CAMPUS MALL | Criminal Trespass | TRESPASS                                                               | No Further Action | 40.00808 | -105.2736 | UNIVERSITY THEATRE                | Academic    | Central Campus |\n",
       "| 2015-00008155 | 07/01/2015 | 06/29/2015 | 19:08 | 06/28/2015 | 20:30 | 06/28/2015 | 20:30 | 2200 WILLARD LOOP DR     | Criminal Mischief | GRAFFITI PROHIBITED ON ANY PROPERTY                                    | No Further Action | 40.00521 | -105.2663 | WILLARD HALL                      | Residential | Central Campus |\n",
       "| 2015-00001272 | 07/01/2015 | 07/02/2015 | 21:05 | 07/02/2015 | 20:50 | 07/02/2015 | 21:05 | 1060 REGENT DR           | Other Offense     | POSSESSING/SELLING OF ALCOHOL BY MINORS                                | Cleared - Summons | 40.00685 | -105.2597 | GROUNDS RECYCLING OPERATIONS CNTR | Facilities  | Central Campus |\n",
       "| 2015-00001272 | 07/01/2015 | 07/02/2015 | 21:05 | 07/02/2015 | 20:50 | 07/02/2015 | 21:05 | 1060 REGENT DR           | Other Offense     | URINATING IN PUBLIC                                                    | Cleared - Summons | 40.00685 | -105.2597 | GROUNDS RECYCLING OPERATIONS CNTR | Facilities  | Central Campus |\n",
       "\n"
      ],
      "text/plain": [
       "  CaseNumber    DateLogged DateReported TimeReported DateIncidentBegan\n",
       "1 2015-00001265 07/01/2015 07/01/2015   12:47        07/01/2015       \n",
       "2 2015-00001266 07/01/2015 07/01/2015   13:44        06/01/2015       \n",
       "3 2015-00001269 07/01/2015 07/01/2015   17:28        07/01/2015       \n",
       "4 2015-00008155 07/01/2015 06/29/2015   19:08        06/28/2015       \n",
       "5 2015-00001272 07/01/2015 07/02/2015   21:05        07/02/2015       \n",
       "6 2015-00001272 07/01/2015 07/02/2015   21:05        07/02/2015       \n",
       "  TmeIncidentBegan DateIncidentEnded TimeIncidentEnded Location                \n",
       "1 12:47            07/01/2015        12:47             30TH ST /  COLORADO AVE \n",
       "2 00:00            06/29/2015        00:00             1111 ENGINEERING DR     \n",
       "3 17:28            07/01/2015        17:28             1515 CENTRAL CAMPUS MALL\n",
       "4 20:30            06/28/2015        20:30             2200 WILLARD LOOP DR    \n",
       "5 20:50            07/02/2015        21:05             1060 REGENT DR          \n",
       "6 20:50            07/02/2015        21:05             1060 REGENT DR          \n",
       "  IncidentType     \n",
       "1 Traffic Offense  \n",
       "2 Theft            \n",
       "3 Criminal Trespass\n",
       "4 Criminal Mischief\n",
       "5 Other Offense    \n",
       "6 Other Offense    \n",
       "  CriminalOffense                                                       \n",
       "1 DROVE VEHICLE WHILE LICENSE UNDER RESTRAINT (SUSPENDED/REVOKED/DENIED)\n",
       "2 THEFT $750 OR MORE BUT LESS THAN $2,000 - OTHER (MISDEMEANOR)         \n",
       "3 TRESPASS                                                              \n",
       "4 GRAFFITI PROHIBITED ON ANY PROPERTY                                   \n",
       "5 POSSESSING/SELLING OF ALCOHOL BY MINORS                               \n",
       "6 URINATING IN PUBLIC                                                   \n",
       "  Disposition       Latitude Longitude BuildingName                     \n",
       "1 Cleared - Summons 40.00784 -105.2534 0                                \n",
       "2 No Further Action 40.00717 -105.2627 ENGINEERING CENTER               \n",
       "3 No Further Action 40.00808 -105.2736 UNIVERSITY THEATRE               \n",
       "4 No Further Action 40.00521 -105.2663 WILLARD HALL                     \n",
       "5 Cleared - Summons 40.00685 -105.2597 GROUNDS RECYCLING OPERATIONS CNTR\n",
       "6 Cleared - Summons 40.00685 -105.2597 GROUNDS RECYCLING OPERATIONS CNTR\n",
       "  LocationType CampusZone    \n",
       "1 0            0             \n",
       "2 Academic     Central Campus\n",
       "3 Academic     Central Campus\n",
       "4 Residential  Central Campus\n",
       "5 Facilities   Central Campus\n",
       "6 Facilities   Central Campus"
      ]
     },
     "metadata": {},
     "output_type": "display_data"
    }
   ],
   "source": [
    "data <- read_excel(\"CUPD_data.xlsx\")\n",
    "head(data)"
   ]
  },
  {
   "cell_type": "markdown",
   "id": "21269878",
   "metadata": {},
   "source": [
    "Take a look at all of the column names in the data set"
   ]
  },
  {
   "cell_type": "code",
   "execution_count": 8,
   "id": "1f9531fc",
   "metadata": {},
   "outputs": [
    {
     "data": {
      "text/html": [
       "<style>\n",
       ".list-inline {list-style: none; margin:0; padding: 0}\n",
       ".list-inline>li {display: inline-block}\n",
       ".list-inline>li:not(:last-child)::after {content: \"\\00b7\"; padding: 0 .5ex}\n",
       "</style>\n",
       "<ol class=list-inline><li>'CaseNumber'</li><li>'DateLogged'</li><li>'DateReported'</li><li>'TimeReported'</li><li>'DateIncidentBegan'</li><li>'TmeIncidentBegan'</li><li>'DateIncidentEnded'</li><li>'TimeIncidentEnded'</li><li>'Location'</li><li>'IncidentType'</li><li>'CriminalOffense'</li><li>'Disposition'</li><li>'Latitude'</li><li>'Longitude'</li><li>'BuildingName'</li><li>'LocationType'</li><li>'CampusZone'</li></ol>\n"
      ],
      "text/latex": [
       "\\begin{enumerate*}\n",
       "\\item 'CaseNumber'\n",
       "\\item 'DateLogged'\n",
       "\\item 'DateReported'\n",
       "\\item 'TimeReported'\n",
       "\\item 'DateIncidentBegan'\n",
       "\\item 'TmeIncidentBegan'\n",
       "\\item 'DateIncidentEnded'\n",
       "\\item 'TimeIncidentEnded'\n",
       "\\item 'Location'\n",
       "\\item 'IncidentType'\n",
       "\\item 'CriminalOffense'\n",
       "\\item 'Disposition'\n",
       "\\item 'Latitude'\n",
       "\\item 'Longitude'\n",
       "\\item 'BuildingName'\n",
       "\\item 'LocationType'\n",
       "\\item 'CampusZone'\n",
       "\\end{enumerate*}\n"
      ],
      "text/markdown": [
       "1. 'CaseNumber'\n",
       "2. 'DateLogged'\n",
       "3. 'DateReported'\n",
       "4. 'TimeReported'\n",
       "5. 'DateIncidentBegan'\n",
       "6. 'TmeIncidentBegan'\n",
       "7. 'DateIncidentEnded'\n",
       "8. 'TimeIncidentEnded'\n",
       "9. 'Location'\n",
       "10. 'IncidentType'\n",
       "11. 'CriminalOffense'\n",
       "12. 'Disposition'\n",
       "13. 'Latitude'\n",
       "14. 'Longitude'\n",
       "15. 'BuildingName'\n",
       "16. 'LocationType'\n",
       "17. 'CampusZone'\n",
       "\n",
       "\n"
      ],
      "text/plain": [
       " [1] \"CaseNumber\"        \"DateLogged\"        \"DateReported\"     \n",
       " [4] \"TimeReported\"      \"DateIncidentBegan\" \"TmeIncidentBegan\" \n",
       " [7] \"DateIncidentEnded\" \"TimeIncidentEnded\" \"Location\"         \n",
       "[10] \"IncidentType\"      \"CriminalOffense\"   \"Disposition\"      \n",
       "[13] \"Latitude\"          \"Longitude\"         \"BuildingName\"     \n",
       "[16] \"LocationType\"      \"CampusZone\"       "
      ]
     },
     "metadata": {},
     "output_type": "display_data"
    }
   ],
   "source": [
    "colnames(data)"
   ]
  },
  {
   "cell_type": "code",
   "execution_count": 9,
   "id": "9168514a",
   "metadata": {},
   "outputs": [
    {
     "name": "stderr",
     "output_type": "stream",
     "text": [
      "Selecting by Freq\n",
      "\n"
     ]
    },
    {
     "data": {
      "text/html": [
       "<table class=\"dataframe\">\n",
       "<caption>A data.frame: 6 × 2</caption>\n",
       "<thead>\n",
       "\t<tr><th></th><th scope=col>Var1</th><th scope=col>Freq</th></tr>\n",
       "\t<tr><th></th><th scope=col>&lt;fct&gt;</th><th scope=col>&lt;int&gt;</th></tr>\n",
       "</thead>\n",
       "<tbody>\n",
       "\t<tr><th scope=row>1</th><td>Drug Violation   </td><td>3123</td></tr>\n",
       "\t<tr><th scope=row>2</th><td>Theft            </td><td>2392</td></tr>\n",
       "\t<tr><th scope=row>3</th><td>Alcohol Violation</td><td>2151</td></tr>\n",
       "\t<tr><th scope=row>4</th><td>Traffic Offense  </td><td>1257</td></tr>\n",
       "\t<tr><th scope=row>5</th><td>DUI/DWAI         </td><td>1066</td></tr>\n",
       "\t<tr><th scope=row>6</th><td>Other Offense    </td><td>1027</td></tr>\n",
       "</tbody>\n",
       "</table>\n"
      ],
      "text/latex": [
       "A data.frame: 6 × 2\n",
       "\\begin{tabular}{r|ll}\n",
       "  & Var1 & Freq\\\\\n",
       "  & <fct> & <int>\\\\\n",
       "\\hline\n",
       "\t1 & Drug Violation    & 3123\\\\\n",
       "\t2 & Theft             & 2392\\\\\n",
       "\t3 & Alcohol Violation & 2151\\\\\n",
       "\t4 & Traffic Offense   & 1257\\\\\n",
       "\t5 & DUI/DWAI          & 1066\\\\\n",
       "\t6 & Other Offense     & 1027\\\\\n",
       "\\end{tabular}\n"
      ],
      "text/markdown": [
       "\n",
       "A data.frame: 6 × 2\n",
       "\n",
       "| <!--/--> | Var1 &lt;fct&gt; | Freq &lt;int&gt; |\n",
       "|---|---|---|\n",
       "| 1 | Drug Violation    | 3123 |\n",
       "| 2 | Theft             | 2392 |\n",
       "| 3 | Alcohol Violation | 2151 |\n",
       "| 4 | Traffic Offense   | 1257 |\n",
       "| 5 | DUI/DWAI          | 1066 |\n",
       "| 6 | Other Offense     | 1027 |\n",
       "\n"
      ],
      "text/plain": [
       "  Var1              Freq\n",
       "1 Drug Violation    3123\n",
       "2 Theft             2392\n",
       "3 Alcohol Violation 2151\n",
       "4 Traffic Offense   1257\n",
       "5 DUI/DWAI          1066\n",
       "6 Other Offense     1027"
      ]
     },
     "metadata": {},
     "output_type": "display_data"
    }
   ],
   "source": [
    "incidentInfo <- table(data$IncidentType)\n",
    "incidentInfo <- as.data.frame(incidentInfo)\n",
    "incidentInfoSorted <- incidentInfo[order(-incidentInfo$Freq),]  %>%  top_n(20)\n",
    "head(incidentInfoSorted)"
   ]
  },
  {
   "cell_type": "code",
   "execution_count": 10,
   "id": "5d1c7500",
   "metadata": {},
   "outputs": [
    {
     "data": {
      "text/html": [
       "<table class=\"dataframe\">\n",
       "<caption>A tibble: 6 × 2</caption>\n",
       "<thead>\n",
       "\t<tr><th scope=col>month</th><th scope=col>amount</th></tr>\n",
       "\t<tr><th scope=col>&lt;date&gt;</th><th scope=col>&lt;int&gt;</th></tr>\n",
       "</thead>\n",
       "<tbody>\n",
       "\t<tr><td>2014-08-01</td><td>  3</td></tr>\n",
       "\t<tr><td>2015-01-01</td><td>  1</td></tr>\n",
       "\t<tr><td>2015-04-01</td><td>  2</td></tr>\n",
       "\t<tr><td>2015-06-01</td><td> 16</td></tr>\n",
       "\t<tr><td>2015-07-01</td><td>148</td></tr>\n",
       "\t<tr><td>2015-08-01</td><td>284</td></tr>\n",
       "</tbody>\n",
       "</table>\n"
      ],
      "text/latex": [
       "A tibble: 6 × 2\n",
       "\\begin{tabular}{ll}\n",
       " month & amount\\\\\n",
       " <date> & <int>\\\\\n",
       "\\hline\n",
       "\t 2014-08-01 &   3\\\\\n",
       "\t 2015-01-01 &   1\\\\\n",
       "\t 2015-04-01 &   2\\\\\n",
       "\t 2015-06-01 &  16\\\\\n",
       "\t 2015-07-01 & 148\\\\\n",
       "\t 2015-08-01 & 284\\\\\n",
       "\\end{tabular}\n"
      ],
      "text/markdown": [
       "\n",
       "A tibble: 6 × 2\n",
       "\n",
       "| month &lt;date&gt; | amount &lt;int&gt; |\n",
       "|---|---|\n",
       "| 2014-08-01 |   3 |\n",
       "| 2015-01-01 |   1 |\n",
       "| 2015-04-01 |   2 |\n",
       "| 2015-06-01 |  16 |\n",
       "| 2015-07-01 | 148 |\n",
       "| 2015-08-01 | 284 |\n",
       "\n"
      ],
      "text/plain": [
       "  month      amount\n",
       "1 2014-08-01   3   \n",
       "2 2015-01-01   1   \n",
       "3 2015-04-01   2   \n",
       "4 2015-06-01  16   \n",
       "5 2015-07-01 148   \n",
       "6 2015-08-01 284   "
      ]
     },
     "metadata": {},
     "output_type": "display_data"
    }
   ],
   "source": [
    "dateInfo <- table(data$DateReported)\n",
    "dateInfo <- as.data.frame(dateInfo)\n",
    "dateInfo$Var1 <- as.Date(dateInfo$Var1,\"%m/%d/%Y\")\n",
    "DateInfoMonthly <- dateInfo %>% group_by(month = floor_date(Var1, \"month\"))  %>% \n",
    "    summarize(amount = sum(Freq))\n",
    "head(DateInfoMonthly)"
   ]
  },
  {
   "cell_type": "code",
   "execution_count": 11,
   "id": "980a4f48",
   "metadata": {},
   "outputs": [],
   "source": [
    "minute_list <- c(\":00\",\":01\", \":02\", \":03\", \":04\", \":05\", \":06\", \":07\", \":08\", \":09\", \":10\", \":11\", \":12\", \":13\", \":14\", \":15\", \":16\", \":17\", \":18\", \":19\", \":20\", \":21\", \":22\", \":23\", \":24\", \":25\", \":26\", \":27\", \":28\", \":29\", \":30\", \":31\", \":32\", \":33\", \":34\", \":35\", \":36\", \":37\", \":38\", \":39\", \":40\", \":41\", \":42\", \":43\", \":44\", \":45\", \":46\", \":47\", \":48\", \":49\", \":50\", \":51\", \":52\", \":53\", \":54\", \":55\", \":56\", \":57\",\":58\", \":59\")"
   ]
  },
  {
   "cell_type": "code",
   "execution_count": 12,
   "id": "22bd1d60",
   "metadata": {},
   "outputs": [
    {
     "data": {
      "text/html": [
       "<table class=\"dataframe\">\n",
       "<caption>A tibble: 6 × 2</caption>\n",
       "<thead>\n",
       "\t<tr><th scope=col>Var1</th><th scope=col>amount</th></tr>\n",
       "\t<tr><th scope=col>&lt;chr&gt;</th><th scope=col>&lt;int&gt;</th></tr>\n",
       "</thead>\n",
       "<tbody>\n",
       "\t<tr><td>00</td><td>1558</td></tr>\n",
       "\t<tr><td>01</td><td>1217</td></tr>\n",
       "\t<tr><td>02</td><td> 912</td></tr>\n",
       "\t<tr><td>03</td><td> 485</td></tr>\n",
       "\t<tr><td>04</td><td> 305</td></tr>\n",
       "\t<tr><td>05</td><td> 172</td></tr>\n",
       "</tbody>\n",
       "</table>\n"
      ],
      "text/latex": [
       "A tibble: 6 × 2\n",
       "\\begin{tabular}{ll}\n",
       " Var1 & amount\\\\\n",
       " <chr> & <int>\\\\\n",
       "\\hline\n",
       "\t 00 & 1558\\\\\n",
       "\t 01 & 1217\\\\\n",
       "\t 02 &  912\\\\\n",
       "\t 03 &  485\\\\\n",
       "\t 04 &  305\\\\\n",
       "\t 05 &  172\\\\\n",
       "\\end{tabular}\n"
      ],
      "text/markdown": [
       "\n",
       "A tibble: 6 × 2\n",
       "\n",
       "| Var1 &lt;chr&gt; | amount &lt;int&gt; |\n",
       "|---|---|\n",
       "| 00 | 1558 |\n",
       "| 01 | 1217 |\n",
       "| 02 |  912 |\n",
       "| 03 |  485 |\n",
       "| 04 |  305 |\n",
       "| 05 |  172 |\n",
       "\n"
      ],
      "text/plain": [
       "  Var1 amount\n",
       "1 00   1558  \n",
       "2 01   1217  \n",
       "3 02    912  \n",
       "4 03    485  \n",
       "5 04    305  \n",
       "6 05    172  "
      ]
     },
     "metadata": {},
     "output_type": "display_data"
    }
   ],
   "source": [
    "timeInfo <- table(data$TimeIncidentEnded)\n",
    "timeInfo <- as.data.frame(timeInfo)\n",
    "for (x in minute_list) {\n",
    "    timeInfo$Var1 <- gsub(x,\"\", as.character(timeInfo$Var1)) \n",
    "}\n",
    "timeInfoHourly <- timeInfo %>% group_by(Var1)  %>% summarize(amount = sum(Freq))\n",
    "head(timeInfoHourly)"
   ]
  },
  {
   "cell_type": "markdown",
   "id": "a38e51eb",
   "metadata": {},
   "source": [
    "# ^^^ Run The Above Cells, But DON'T WORRY ABOUT THE CODE! ^^^"
   ]
  },
  {
   "cell_type": "markdown",
   "id": "23af500f",
   "metadata": {},
   "source": [
    "# Pay Attention To The Code From Here On Out!"
   ]
  },
  {
   "cell_type": "markdown",
   "id": "53e5a808",
   "metadata": {},
   "source": [
    "## Scatter Plots"
   ]
  },
  {
   "cell_type": "code",
   "execution_count": 13,
   "id": "c83efa0f",
   "metadata": {},
   "outputs": [
    {
     "data": {
      "image/png": "[encoded data removed]",
      "text/plain": [
       "plot without title"
      ]
     },
     "metadata": {
      "image/png": {
       "height": 420,
       "width": 420
      }
     },
     "output_type": "display_data"
    }
   ],
   "source": [
    "#to make a ggplot you need to include the name of the dataset (DateInfoMonthy), and then an aesthetic tag aes(). In the aes tag you specify a variable to an axis.\n",
    "ggplot(DateInfoMonthly, aes(x = month, y = amount)) +\n",
    "    #we include the + symbol as a way to link the functions together. We do this at every step in a ggplot.\n",
    "    geom_point()"
   ]
  },
  {
   "cell_type": "code",
   "execution_count": 14,
   "id": "05899f2b",
   "metadata": {},
   "outputs": [
    {
     "data": {
      "image/png": "[encoded data removed]",
      "text/plain": [
       "plot without title"
      ]
     },
     "metadata": {
      "image/png": {
       "height": 420,
       "width": 420
      }
     },
     "output_type": "display_data"
    }
   ],
   "source": [
    "ggplot(DateInfoMonthly, aes(x = month, y = amount)) +\n",
    "    #we can change our graph by modifying the inputs in our function.\n",
    "    #color determines the border, fill is the inside color, size determines the size of the circle\n",
    "    #stroke determines the width of the border, shape sets the shape of the dot. In this case if makes it multi colored.\n",
    "    #na.rm = TRUE removes any null values\n",
    "    #all of these tags are optional and are only used to modify how the graph looks visually\n",
    "    geom_point(color = \"gold\", fill = \"black\", size = 4, stroke = 4, shape = 21, na.rm = TRUE) +\n",
    "    #we use this line to set our x label\n",
    "    xlab(\"Year\") +\n",
    "    #we use this line to set our y label\n",
    "    ylab(\"Total Reports\") +\n",
    "    #we use this line to set a title to our graph\n",
    "    ggtitle(\"Total Reports Per Month Over 5 Year Period\")"
   ]
  },
  {
   "cell_type": "markdown",
   "id": "348c2330",
   "metadata": {},
   "source": [
    "## Bar Charts"
   ]
  },
  {
   "cell_type": "code",
   "execution_count": 15,
   "id": "a2d99df3",
   "metadata": {},
   "outputs": [
    {
     "data": {
      "image/png": "[encoded data removed]",
      "text/plain": [
       "plot without title"
      ]
     },
     "metadata": {
      "image/png": {
       "height": 420,
       "width": 420
      }
     },
     "output_type": "display_data"
    }
   ],
   "source": [
    "#here we are reordering the columns in our graph so that they are in numerical order. You can see that we are switching to order by the size instead of the name of the violation.\n",
    "ggplot(incidentInfoSorted, aes(x = Freq, y = reorder(Var1, Freq))) +\n",
    "    #stat = \"identity\" is a simple syntax issue. If we do not have it we will get an error for this graph. It's not always needed, but sometimes you have to add it.\n",
    "    geom_bar(stat = \"identity\")"
   ]
  },
  {
   "cell_type": "code",
   "execution_count": 16,
   "id": "581b52ec",
   "metadata": {},
   "outputs": [
    {
     "data": {
      "image/png": "[encoded data removed]",
      "text/plain": [
       "plot without title"
      ]
     },
     "metadata": {
      "image/png": {
       "height": 420,
       "width": 420
      }
     },
     "output_type": "display_data"
    }
   ],
   "source": [
    "ggplot(incidentInfoSorted, aes(x = Freq, y = reorder(Var1, Freq))) +\n",
    "    #similarly to the other graph, color is the border and fill is the inside color. We can also change the width of the bars by using the width tag.\n",
    "    geom_bar(stat = \"identity\", color = \"darkblue\", fill = \"lightblue\", width = .7) +\n",
    "    #set x axis label\n",
    "    xlab(\"Crimes Commited\") +\n",
    "    #set y axis label\n",
    "    ylab(\"Crime Category\") +\n",
    "    #set title label\n",
    "    ggtitle(\"Top Crimes Commited\")"
   ]
  },
  {
   "cell_type": "code",
   "execution_count": 17,
   "id": "298b1e52",
   "metadata": {},
   "outputs": [
    {
     "data": {
      "image/png": "[encoded data removed]",
      "text/plain": [
       "plot without title"
      ]
     },
     "metadata": {
      "image/png": {
       "height": 420,
       "width": 420
      }
     },
     "output_type": "display_data"
    }
   ],
   "source": [
    "#no reordering is used here because we want to look at how reports change per hour.\n",
    "ggplot(timeInfoHourly, aes(x = Var1, y = amount)) +\n",
    "    geom_bar(stat = \"identity\")"
   ]
  },
  {
   "cell_type": "code",
   "execution_count": 22,
   "id": "81eabfe8",
   "metadata": {
    "scrolled": true
   },
   "outputs": [
    {
     "data": {
      "image/png": "[encoded data removed]",
      "text/plain": [
       "plot without title"
      ]
     },
     "metadata": {
      "image/png": {
       "height": 420,
       "width": 420
      }
     },
     "output_type": "display_data"
    }
   ],
   "source": [
    "ggplot(timeInfoHourly, aes(x = Var1, y = amount)) +\n",
    "    #same as previous bar graph, just with different colors and a different width\n",
    "    geom_bar(stat = \"identity\", color = \"Black\", fill = \"Gold\", width = .5) +\n",
    "    #set x label\n",
    "    xlab(\"Hour of Day (Military Time)\") +\n",
    "    #set y label\n",
    "    ylab(\"Number of Crime Reports\") +\n",
    "    #set title\n",
    "    ggtitle(\"Total Hourly Crime Reports Over 5 Year Period\")"
   ]
  },
  {
   "cell_type": "markdown",
   "id": "9618f010",
   "metadata": {},
   "source": [
    "## Histograms"
   ]
  },
  {
   "cell_type": "code",
   "execution_count": 51,
   "id": "4d6eead6",
   "metadata": {},
   "outputs": [
    {
     "name": "stderr",
     "output_type": "stream",
     "text": [
      "Warning message:\n",
      "\"Ignoring unknown parameters: binwidth, bins, pad\"\n"
     ]
    },
    {
     "data": {
      "image/png": "[encoded data removed]",
      "text/plain": [
       "plot without title"
      ]
     },
     "metadata": {
      "image/png": {
       "height": 420,
       "width": 420
      }
     },
     "output_type": "display_data"
    }
   ],
   "source": [
    "#histograms only take in one axis. you can specify whether it is the x or y axis however\n",
    "ggplot(data, aes(x = LocationType)) +\n",
    "    #setting our stat = count so that we return the number of times each word occurred in the LocationType column\n",
    "    geom_histogram(stat = \"count\")\n",
    "    #notice that the names are a little difficult to read on the x axis. we will change this in the next cell."
   ]
  },
  {
   "cell_type": "code",
   "execution_count": 54,
   "id": "ffd76435",
   "metadata": {},
   "outputs": [
    {
     "name": "stderr",
     "output_type": "stream",
     "text": [
      "Warning message:\n",
      "\"Ignoring unknown parameters: binwidth, bins, pad\"\n"
     ]
    },
    {
     "data": {
      "image/png": "[encoded data removed]",
      "text/plain": [
       "plot without title"
      ]
     },
     "metadata": {
      "image/png": {
       "height": 420,
       "width": 420
      }
     },
     "output_type": "display_data"
    }
   ],
   "source": [
    "#we have a couple of options to flip the axis. we could either set location type = y instead of = x. \n",
    "#Or we can use the coord_flip() function to swap our axis\n",
    "ggplot(data, aes(y = LocationType)) +\n",
    "    geom_histogram(stat = \"count\", color = \"lightblue\", fill = \"#323ea8\", width = .75) +\n",
    "    #coord_flip() +\n",
    "    xlab(\"Total Reports\") +\n",
    "    ylab(\"Type of Location\") +\n",
    "    ggtitle(\"Total Reports Based On Location Type\")"
   ]
  },
  {
   "cell_type": "code",
   "execution_count": null,
   "id": "9443c4c1",
   "metadata": {},
   "outputs": [],
   "source": []
  }
 ],
 "metadata": {
  "kernelspec": {
   "display_name": "R",
   "language": "R",
   "name": "ir"
  },
  "language_info": {
   "codemirror_mode": "r",
   "file_extension": ".r",
   "mimetype": "text/x-r-source",
   "name": "R",
   "pygments_lexer": "r",
   "version": "4.0.5"
  }
 },
 "nbformat": 4,
 "nbformat_minor": 5
}
