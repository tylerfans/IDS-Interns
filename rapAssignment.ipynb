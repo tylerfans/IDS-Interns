{
 "cells": [
  {
   "cell_type": "markdown",
   "metadata": {},
   "source": [
    "Today we are going to be going over a basic R tutorial using music. We need to start by importing all of the necessary packages. I have gone ahead and listed those for you in the code cell below. Make sure you run this first or else nothing else will work. This first cell should be run to install all of the necessary packages onto this coding environment."
   ]
  },
  {
   "cell_type": "code",
   "execution_count": 24,
   "metadata": {},
   "outputs": [
    {
     "name": "stderr",
     "output_type": "stream",
     "text": [
      "Updating HTML index of packages in '.Library'\n",
      "\n",
      "Making 'packages.html' ...\n",
      " done\n",
      "\n",
      "Updating HTML index of packages in '.Library'\n",
      "\n",
      "Making 'packages.html' ...\n",
      " done\n",
      "\n",
      "Updating HTML index of packages in '.Library'\n",
      "\n",
      "Making 'packages.html' ...\n",
      " done\n",
      "\n",
      "Updating HTML index of packages in '.Library'\n",
      "\n",
      "Making 'packages.html' ...\n",
      " done\n",
      "\n",
      "Updating HTML index of packages in '.Library'\n",
      "\n",
      "Making 'packages.html' ...\n",
      " done\n",
      "\n",
      "also installing the dependency ‘rappdirs’\n",
      "\n",
      "\n",
      "Updating HTML index of packages in '.Library'\n",
      "\n",
      "Making 'packages.html' ...\n",
      " done\n",
      "\n"
     ]
    }
   ],
   "source": [
    "install.packages('geniusr')\n",
    "install.packages('tidytext')\n",
    "install.packages('ggplot2')\n",
    "install.packages('dplyr')\n",
    "install.packages('stringr')\n",
    "install.packages('textdata')"
   ]
  },
  {
   "cell_type": "markdown",
   "metadata": {},
   "source": [
    "Next, we need to include all of the libraries that we will be accessing with the R language. There are tons of different libraries, but we will be using the following three for this assignment. The most important library for this notebook is geniusr. This is what will allow us to access all of the lyrics on the genius website. "
   ]
  },
  {
   "cell_type": "code",
   "execution_count": 1,
   "metadata": {},
   "outputs": [
    {
     "ename": "ERROR",
     "evalue": "Error in library(geniusr): there is no package called ‘geniusr’\n",
     "output_type": "error",
     "traceback": [
      "Error in library(geniusr): there is no package called ‘geniusr’\nTraceback:\n",
      "1. library(geniusr)"
     ]
    }
   ],
   "source": [
    "library(geniusr) \n",
    "library(tidyverse)\n",
    "library(tidytext)\n",
    "library(ggplot2)\n",
    "library(dplyr)\n",
    "library(stringr)\n",
    "library(textdata)"
   ]
  },
  {
   "cell_type": "markdown",
   "metadata": {},
   "source": [
    "In order to access the geniusr library, we have to set up an account with them and get an API key. This is never a fun process, so don't feel bad if it takes you a bit to navigate the site. You can sign up here https://genius.com/signup_or_login. For the website URL I linked my jupyter lab and the name of the app was \"Homework1\". This names are not important, we are just trying to get the API key. Once you have the key, you need to set the GENIUS_API_TOKEN to the API key that you generated. Simply fill in the '' below with your key and run the cell. "
   ]
  },
  {
   "cell_type": "code",
   "execution_count": 2,
   "metadata": {},
   "outputs": [],
   "source": [
    "Sys.setenv(GENIUS_API_TOKEN = '6I2y8PmTdL5xU615YndcCaa1wGBuLDQBhkquN8LK6Dp6Uxpekl6WAhe1uPbxciIM')"
   ]
  },
  {
   "cell_type": "markdown",
   "metadata": {},
   "source": [
    "If everything worked correctly, you should be able to run the next cell and get a big output of all of the metadata that is stored for each song. The song ID can be changed to get all of this metadata for any song on their website."
   ]
  },
  {
   "cell_type": "markdown",
   "metadata": {},
   "source": [
    "Getting the song_id can be a little tedius, but that's okay because we do not always need it! We can get the lyrics of a song by knowing the name of it and the name of the artist who created it. Check out the cell below as an example! As you can see, the table is split into several colums already. You might not know it, but this is going to save you A LOT of time because we don't have to \"scrub\" or manually clean/categorize the data ourself. Now that you know the basic formula, you can get the lyrics of any song you want! Simply replace the artist name and song title with a piece of music that you are interested in and let it run. As a side note, you do not have to worry about capitalization when filling out the artist name and title. Just make sure they are spelled correctly! Make sure that you give a name to the song so that we can add it to a corpus in a little bit! You can do this by putting whatever name you want in front of the function and then adding a \"<-\". Type the name by itself it view your table."
   ]
  },
  {
   "cell_type": "code",
   "execution_count": 3,
   "metadata": {},
   "outputs": [
    {
     "ename": "ERROR",
     "evalue": "Error in get_lyrics_search(artist_name = \"Ice Cube\", song_title = \"Why We Thugs\"): could not find function \"get_lyrics_search\"\n",
     "output_type": "error",
     "traceback": [
      "Error in get_lyrics_search(artist_name = \"Ice Cube\", song_title = \"Why We Thugs\"): could not find function \"get_lyrics_search\"\nTraceback:\n"
     ]
    }
   ],
   "source": [
    "song1 <- get_lyrics_search(artist_name = \"Ice Cube\", song_title = \"Why We Thugs\")\n",
    "head(song1, 10)"
   ]
  },
  {
   "cell_type": "markdown",
   "metadata": {},
   "source": [
    "We can do a lot of fun things once we have the lyrics in this table format called a \"tibble\". For instance, we can see how many times Kanye says \"good morning\" on his song \"Good Morning\". Check this out! As you can see, it was said 18 times! Pretty cool, huh? You can check out the details for unnest_tokens here https://www.rdocumentation.org/packages/tidytext/versions/0.3.0/topics/unnest_tokens."
   ]
  },
  {
   "cell_type": "code",
   "execution_count": 9,
   "metadata": {},
   "outputs": [
    {
     "data": {
      "text/html": [
       "18"
      ],
      "text/latex": [
       "18"
      ],
      "text/markdown": [
       "18"
      ],
      "text/plain": [
       "[1] 18"
      ]
     },
     "metadata": {},
     "output_type": "display_data"
    }
   ],
   "source": [
    "get_lyrics_search(artist_name = \"Kanye West\", song_title = \"Good Morning\") %>% # the %>% symbol here is used to group more complex functions together, you will get used to typing it out\n",
    "    #this line is splitting all of the lyrics into groups of 2 words.\n",
    "    #you can unnest by \"ngrams\" with a specific n to specify how many words\n",
    "    #you can also unnest by \"words\" and many other things. Look into the unnest_tokens function if you would like to seperate by something else\n",
    "    unnest_tokens(bigram, line, token = \"ngrams\", n = 2) %>%\n",
    "    #filter is going to make a new table that only contains occurances of \"good morning\"\n",
    "    filter(bigram == \"good morning\") %>%\n",
    "    #nrow returns the number of rows\n",
    "    nrow()\n",
    "\n"
   ]
  },
  {
   "cell_type": "markdown",
   "metadata": {},
   "source": [
    "I'm going to talk about a few of the functions that we can use, but if you would like to see a full list of the \"basics\" for this library check out this link https://ewenme.github.io/geniusr/articles/geniusr.html#auth. If you don't want to search by artist name and song name you can simply copy and paste the url from genius.com into the \"get_lyrics_url()\" function. It will retreive the same data, so do what feels best for you!"
   ]
  },
  {
   "cell_type": "code",
   "execution_count": 11,
   "metadata": {},
   "outputs": [
    {
     "data": {
      "text/html": [
       "<table>\n",
       "<caption>A tibble: 6 × 6</caption>\n",
       "<thead>\n",
       "\t<tr><th scope=col>line</th><th scope=col>section_name</th><th scope=col>section_artist</th><th scope=col>song_name</th><th scope=col>artist_name</th><th scope=col>song_lyrics_url</th></tr>\n",
       "\t<tr><th scope=col>&lt;chr&gt;</th><th scope=col>&lt;chr&gt;</th><th scope=col>&lt;chr&gt;</th><th scope=col>&lt;chr&gt;</th><th scope=col>&lt;chr&gt;</th><th scope=col>&lt;chr&gt;</th></tr>\n",
       "</thead>\n",
       "<tbody>\n",
       "\t<tr><td>Yeah, every hood's the same           </td><td>Intro</td><td>Ice Cube</td><td>Why We Thugs</td><td>Ice Cube</td><td>https://genius.com/Ice-cube-why-we-thugs-lyrics</td></tr>\n",
       "\t<tr><td>Every hood's the same, come on        </td><td>Intro</td><td>Ice Cube</td><td>Why We Thugs</td><td>Ice Cube</td><td>https://genius.com/Ice-cube-why-we-thugs-lyrics</td></tr>\n",
       "\t<tr><td>They give us guns and drugs           </td><td>Hook </td><td>Ice Cube</td><td>Why We Thugs</td><td>Ice Cube</td><td>https://genius.com/Ice-cube-why-we-thugs-lyrics</td></tr>\n",
       "\t<tr><td>Then wonder why in the fuck we thugs  </td><td>Hook </td><td>Ice Cube</td><td>Why We Thugs</td><td>Ice Cube</td><td>https://genius.com/Ice-cube-why-we-thugs-lyrics</td></tr>\n",
       "\t<tr><td>They wanna count the slugs            </td><td>Hook </td><td>Ice Cube</td><td>Why We Thugs</td><td>Ice Cube</td><td>https://genius.com/Ice-cube-why-we-thugs-lyrics</td></tr>\n",
       "\t<tr><td>Then come around here and fuck with us</td><td>Hook </td><td>Ice Cube</td><td>Why We Thugs</td><td>Ice Cube</td><td>https://genius.com/Ice-cube-why-we-thugs-lyrics</td></tr>\n",
       "</tbody>\n",
       "</table>\n"
      ],
      "text/latex": [
       "A tibble: 6 × 6\n",
       "\\begin{tabular}{llllll}\n",
       " line & section\\_name & section\\_artist & song\\_name & artist\\_name & song\\_lyrics\\_url\\\\\n",
       " <chr> & <chr> & <chr> & <chr> & <chr> & <chr>\\\\\n",
       "\\hline\n",
       "\t Yeah, every hood's the same            & Intro & Ice Cube & Why We Thugs & Ice Cube & https://genius.com/Ice-cube-why-we-thugs-lyrics\\\\\n",
       "\t Every hood's the same, come on         & Intro & Ice Cube & Why We Thugs & Ice Cube & https://genius.com/Ice-cube-why-we-thugs-lyrics\\\\\n",
       "\t They give us guns and drugs            & Hook  & Ice Cube & Why We Thugs & Ice Cube & https://genius.com/Ice-cube-why-we-thugs-lyrics\\\\\n",
       "\t Then wonder why in the fuck we thugs   & Hook  & Ice Cube & Why We Thugs & Ice Cube & https://genius.com/Ice-cube-why-we-thugs-lyrics\\\\\n",
       "\t They wanna count the slugs             & Hook  & Ice Cube & Why We Thugs & Ice Cube & https://genius.com/Ice-cube-why-we-thugs-lyrics\\\\\n",
       "\t Then come around here and fuck with us & Hook  & Ice Cube & Why We Thugs & Ice Cube & https://genius.com/Ice-cube-why-we-thugs-lyrics\\\\\n",
       "\\end{tabular}\n"
      ],
      "text/markdown": [
       "\n",
       "A tibble: 6 × 6\n",
       "\n",
       "| line &lt;chr&gt; | section_name &lt;chr&gt; | section_artist &lt;chr&gt; | song_name &lt;chr&gt; | artist_name &lt;chr&gt; | song_lyrics_url &lt;chr&gt; |\n",
       "|---|---|---|---|---|---|\n",
       "| Yeah, every hood's the same            | Intro | Ice Cube | Why We Thugs | Ice Cube | https://genius.com/Ice-cube-why-we-thugs-lyrics |\n",
       "| Every hood's the same, come on         | Intro | Ice Cube | Why We Thugs | Ice Cube | https://genius.com/Ice-cube-why-we-thugs-lyrics |\n",
       "| They give us guns and drugs            | Hook  | Ice Cube | Why We Thugs | Ice Cube | https://genius.com/Ice-cube-why-we-thugs-lyrics |\n",
       "| Then wonder why in the fuck we thugs   | Hook  | Ice Cube | Why We Thugs | Ice Cube | https://genius.com/Ice-cube-why-we-thugs-lyrics |\n",
       "| They wanna count the slugs             | Hook  | Ice Cube | Why We Thugs | Ice Cube | https://genius.com/Ice-cube-why-we-thugs-lyrics |\n",
       "| Then come around here and fuck with us | Hook  | Ice Cube | Why We Thugs | Ice Cube | https://genius.com/Ice-cube-why-we-thugs-lyrics |\n",
       "\n"
      ],
      "text/plain": [
       "  line                                   section_name section_artist\n",
       "1 Yeah, every hood's the same            Intro        Ice Cube      \n",
       "2 Every hood's the same, come on         Intro        Ice Cube      \n",
       "3 They give us guns and drugs            Hook         Ice Cube      \n",
       "4 Then wonder why in the fuck we thugs   Hook         Ice Cube      \n",
       "5 They wanna count the slugs             Hook         Ice Cube      \n",
       "6 Then come around here and fuck with us Hook         Ice Cube      \n",
       "  song_name    artist_name song_lyrics_url                                \n",
       "1 Why We Thugs Ice Cube    https://genius.com/Ice-cube-why-we-thugs-lyrics\n",
       "2 Why We Thugs Ice Cube    https://genius.com/Ice-cube-why-we-thugs-lyrics\n",
       "3 Why We Thugs Ice Cube    https://genius.com/Ice-cube-why-we-thugs-lyrics\n",
       "4 Why We Thugs Ice Cube    https://genius.com/Ice-cube-why-we-thugs-lyrics\n",
       "5 Why We Thugs Ice Cube    https://genius.com/Ice-cube-why-we-thugs-lyrics\n",
       "6 Why We Thugs Ice Cube    https://genius.com/Ice-cube-why-we-thugs-lyrics"
      ]
     },
     "metadata": {},
     "output_type": "display_data"
    }
   ],
   "source": [
    "# get_artist(artist_name = \"kendrick lamar\")\n",
    "head(get_lyrics_url('https://genius.com/Ice-cube-why-we-thugs-lyrics'))"
   ]
  },
  {
   "cell_type": "markdown",
   "metadata": {},
   "source": [
    "Now you try! Take one of your favorite songs that's on genius and try to get the tibble with the lyrics to show. you can comment out the function that you DO NOT use with a \"#\" (no quotes)"
   ]
  },
  {
   "cell_type": "code",
   "execution_count": null,
   "metadata": {},
   "outputs": [],
   "source": [
    "get_lyrics_search(artist_name = \"\", song_title = \"\")\n",
    "get_lyrics_url('')"
   ]
  },
  {
   "cell_type": "markdown",
   "metadata": {},
   "source": [
    "Now that we understand the basics of loading in a song, we can combine a bunch of them together to make a corpus! I'm going to be using the url function, but this will also work with the search function if you prefer that! I'm going to create a corpus of some Mac Miller songs because I miss him dearly :(. I'm going to select the top 5 most viewed songs of his on genius. This template would be great if you wanted to combine an entire album together for analysis! We are loading a bunch of songs into data frames for the first 5 lines, and then we use rbind to combine the dataframes together. You can see the new table of songs below."
   ]
  },
  {
   "cell_type": "code",
   "execution_count": 13,
   "metadata": {},
   "outputs": [
    {
     "data": {
      "text/html": [
       "<table>\n",
       "<caption>A tibble: 6 × 6</caption>\n",
       "<thead>\n",
       "\t<tr><th scope=col>line</th><th scope=col>section_name</th><th scope=col>section_artist</th><th scope=col>song_name</th><th scope=col>artist_name</th><th scope=col>song_lyrics_url</th></tr>\n",
       "\t<tr><th scope=col>&lt;chr&gt;</th><th scope=col>&lt;chr&gt;</th><th scope=col>&lt;chr&gt;</th><th scope=col>&lt;chr&gt;</th><th scope=col>&lt;chr&gt;</th><th scope=col>&lt;chr&gt;</th></tr>\n",
       "</thead>\n",
       "<tbody>\n",
       "\t<tr><td>Mhm, mhm                                     </td><td>Intro </td><td>Mac Miller</td><td>Self Care</td><td>Mac Miller</td><td>https://genius.com/Mac-miller-self-care-lyrics</td></tr>\n",
       "\t<tr><td>Okay                                         </td><td>Intro </td><td>Mac Miller</td><td>Self Care</td><td>Mac Miller</td><td>https://genius.com/Mac-miller-self-care-lyrics</td></tr>\n",
       "\t<tr><td>Yeah, yeah, yeah, yeah                       </td><td>Intro </td><td>Mac Miller</td><td>Self Care</td><td>Mac Miller</td><td>https://genius.com/Mac-miller-self-care-lyrics</td></tr>\n",
       "\t<tr><td>Yeah, yeah, yeah                             </td><td>Intro </td><td>Mac Miller</td><td>Self Care</td><td>Mac Miller</td><td>https://genius.com/Mac-miller-self-care-lyrics</td></tr>\n",
       "\t<tr><td>Dollars                                      </td><td>Intro </td><td>Mac Miller</td><td>Self Care</td><td>Mac Miller</td><td>https://genius.com/Mac-miller-self-care-lyrics</td></tr>\n",
       "\t<tr><td>I switched the time zone, but what do I know?</td><td>Chorus</td><td>Mac Miller</td><td>Self Care</td><td>Mac Miller</td><td>https://genius.com/Mac-miller-self-care-lyrics</td></tr>\n",
       "</tbody>\n",
       "</table>\n"
      ],
      "text/latex": [
       "A tibble: 6 × 6\n",
       "\\begin{tabular}{llllll}\n",
       " line & section\\_name & section\\_artist & song\\_name & artist\\_name & song\\_lyrics\\_url\\\\\n",
       " <chr> & <chr> & <chr> & <chr> & <chr> & <chr>\\\\\n",
       "\\hline\n",
       "\t Mhm, mhm                                      & Intro  & Mac Miller & Self Care & Mac Miller & https://genius.com/Mac-miller-self-care-lyrics\\\\\n",
       "\t Okay                                          & Intro  & Mac Miller & Self Care & Mac Miller & https://genius.com/Mac-miller-self-care-lyrics\\\\\n",
       "\t Yeah, yeah, yeah, yeah                        & Intro  & Mac Miller & Self Care & Mac Miller & https://genius.com/Mac-miller-self-care-lyrics\\\\\n",
       "\t Yeah, yeah, yeah                              & Intro  & Mac Miller & Self Care & Mac Miller & https://genius.com/Mac-miller-self-care-lyrics\\\\\n",
       "\t Dollars                                       & Intro  & Mac Miller & Self Care & Mac Miller & https://genius.com/Mac-miller-self-care-lyrics\\\\\n",
       "\t I switched the time zone, but what do I know? & Chorus & Mac Miller & Self Care & Mac Miller & https://genius.com/Mac-miller-self-care-lyrics\\\\\n",
       "\\end{tabular}\n"
      ],
      "text/markdown": [
       "\n",
       "A tibble: 6 × 6\n",
       "\n",
       "| line &lt;chr&gt; | section_name &lt;chr&gt; | section_artist &lt;chr&gt; | song_name &lt;chr&gt; | artist_name &lt;chr&gt; | song_lyrics_url &lt;chr&gt; |\n",
       "|---|---|---|---|---|---|\n",
       "| Mhm, mhm                                      | Intro  | Mac Miller | Self Care | Mac Miller | https://genius.com/Mac-miller-self-care-lyrics |\n",
       "| Okay                                          | Intro  | Mac Miller | Self Care | Mac Miller | https://genius.com/Mac-miller-self-care-lyrics |\n",
       "| Yeah, yeah, yeah, yeah                        | Intro  | Mac Miller | Self Care | Mac Miller | https://genius.com/Mac-miller-self-care-lyrics |\n",
       "| Yeah, yeah, yeah                              | Intro  | Mac Miller | Self Care | Mac Miller | https://genius.com/Mac-miller-self-care-lyrics |\n",
       "| Dollars                                       | Intro  | Mac Miller | Self Care | Mac Miller | https://genius.com/Mac-miller-self-care-lyrics |\n",
       "| I switched the time zone, but what do I know? | Chorus | Mac Miller | Self Care | Mac Miller | https://genius.com/Mac-miller-self-care-lyrics |\n",
       "\n"
      ],
      "text/plain": [
       "  line                                          section_name section_artist\n",
       "1 Mhm, mhm                                      Intro        Mac Miller    \n",
       "2 Okay                                          Intro        Mac Miller    \n",
       "3 Yeah, yeah, yeah, yeah                        Intro        Mac Miller    \n",
       "4 Yeah, yeah, yeah                              Intro        Mac Miller    \n",
       "5 Dollars                                       Intro        Mac Miller    \n",
       "6 I switched the time zone, but what do I know? Chorus       Mac Miller    \n",
       "  song_name artist_name song_lyrics_url                               \n",
       "1 Self Care Mac Miller  https://genius.com/Mac-miller-self-care-lyrics\n",
       "2 Self Care Mac Miller  https://genius.com/Mac-miller-self-care-lyrics\n",
       "3 Self Care Mac Miller  https://genius.com/Mac-miller-self-care-lyrics\n",
       "4 Self Care Mac Miller  https://genius.com/Mac-miller-self-care-lyrics\n",
       "5 Self Care Mac Miller  https://genius.com/Mac-miller-self-care-lyrics\n",
       "6 Self Care Mac Miller  https://genius.com/Mac-miller-self-care-lyrics"
      ]
     },
     "metadata": {},
     "output_type": "display_data"
    },
    {
     "data": {
      "text/html": [
       "<table>\n",
       "<caption>A tibble: 6 × 6</caption>\n",
       "<thead>\n",
       "\t<tr><th scope=col>line</th><th scope=col>section_name</th><th scope=col>section_artist</th><th scope=col>song_name</th><th scope=col>artist_name</th><th scope=col>song_lyrics_url</th></tr>\n",
       "\t<tr><th scope=col>&lt;chr&gt;</th><th scope=col>&lt;chr&gt;</th><th scope=col>&lt;chr&gt;</th><th scope=col>&lt;chr&gt;</th><th scope=col>&lt;chr&gt;</th><th scope=col>&lt;chr&gt;</th></tr>\n",
       "</thead>\n",
       "<tbody>\n",
       "\t<tr><td>She don't cry no more                                                </td><td>Chorus</td><td>Mac Miller</td><td>2009</td><td>Mac Miller</td><td>https://genius.com/Mac-miller-2009-lyrics</td></tr>\n",
       "\t<tr><td>She tell me that I get her high 'cause an angel's s'posed to fly, and</td><td>Chorus</td><td>Mac Miller</td><td>2009</td><td>Mac Miller</td><td>https://genius.com/Mac-miller-2009-lyrics</td></tr>\n",
       "\t<tr><td>I ain't askin' \"Why?\" no more                                        </td><td>Chorus</td><td>Mac Miller</td><td>2009</td><td>Mac Miller</td><td>https://genius.com/Mac-miller-2009-lyrics</td></tr>\n",
       "\t<tr><td>Oh, no, I take it if it's mine, I don't stay inside the lines        </td><td>Chorus</td><td>Mac Miller</td><td>2009</td><td>Mac Miller</td><td>https://genius.com/Mac-miller-2009-lyrics</td></tr>\n",
       "\t<tr><td>It ain't 2009 no more                                                </td><td>Chorus</td><td>Mac Miller</td><td>2009</td><td>Mac Miller</td><td>https://genius.com/Mac-miller-2009-lyrics</td></tr>\n",
       "\t<tr><td>Yeah, I know what's behind that door                                 </td><td>Chorus</td><td>Mac Miller</td><td>2009</td><td>Mac Miller</td><td>https://genius.com/Mac-miller-2009-lyrics</td></tr>\n",
       "</tbody>\n",
       "</table>\n"
      ],
      "text/latex": [
       "A tibble: 6 × 6\n",
       "\\begin{tabular}{llllll}\n",
       " line & section\\_name & section\\_artist & song\\_name & artist\\_name & song\\_lyrics\\_url\\\\\n",
       " <chr> & <chr> & <chr> & <chr> & <chr> & <chr>\\\\\n",
       "\\hline\n",
       "\t She don't cry no more                                                 & Chorus & Mac Miller & 2009 & Mac Miller & https://genius.com/Mac-miller-2009-lyrics\\\\\n",
       "\t She tell me that I get her high 'cause an angel's s'posed to fly, and & Chorus & Mac Miller & 2009 & Mac Miller & https://genius.com/Mac-miller-2009-lyrics\\\\\n",
       "\t I ain't askin' \"Why?\" no more                                         & Chorus & Mac Miller & 2009 & Mac Miller & https://genius.com/Mac-miller-2009-lyrics\\\\\n",
       "\t Oh, no, I take it if it's mine, I don't stay inside the lines         & Chorus & Mac Miller & 2009 & Mac Miller & https://genius.com/Mac-miller-2009-lyrics\\\\\n",
       "\t It ain't 2009 no more                                                 & Chorus & Mac Miller & 2009 & Mac Miller & https://genius.com/Mac-miller-2009-lyrics\\\\\n",
       "\t Yeah, I know what's behind that door                                  & Chorus & Mac Miller & 2009 & Mac Miller & https://genius.com/Mac-miller-2009-lyrics\\\\\n",
       "\\end{tabular}\n"
      ],
      "text/markdown": [
       "\n",
       "A tibble: 6 × 6\n",
       "\n",
       "| line &lt;chr&gt; | section_name &lt;chr&gt; | section_artist &lt;chr&gt; | song_name &lt;chr&gt; | artist_name &lt;chr&gt; | song_lyrics_url &lt;chr&gt; |\n",
       "|---|---|---|---|---|---|\n",
       "| She don't cry no more                                                 | Chorus | Mac Miller | 2009 | Mac Miller | https://genius.com/Mac-miller-2009-lyrics |\n",
       "| She tell me that I get her high 'cause an angel's s'posed to fly, and | Chorus | Mac Miller | 2009 | Mac Miller | https://genius.com/Mac-miller-2009-lyrics |\n",
       "| I ain't askin' \"Why?\" no more                                         | Chorus | Mac Miller | 2009 | Mac Miller | https://genius.com/Mac-miller-2009-lyrics |\n",
       "| Oh, no, I take it if it's mine, I don't stay inside the lines         | Chorus | Mac Miller | 2009 | Mac Miller | https://genius.com/Mac-miller-2009-lyrics |\n",
       "| It ain't 2009 no more                                                 | Chorus | Mac Miller | 2009 | Mac Miller | https://genius.com/Mac-miller-2009-lyrics |\n",
       "| Yeah, I know what's behind that door                                  | Chorus | Mac Miller | 2009 | Mac Miller | https://genius.com/Mac-miller-2009-lyrics |\n",
       "\n"
      ],
      "text/plain": [
       "  line                                                                 \n",
       "1 She don't cry no more                                                \n",
       "2 She tell me that I get her high 'cause an angel's s'posed to fly, and\n",
       "3 I ain't askin' \"Why?\" no more                                        \n",
       "4 Oh, no, I take it if it's mine, I don't stay inside the lines        \n",
       "5 It ain't 2009 no more                                                \n",
       "6 Yeah, I know what's behind that door                                 \n",
       "  section_name section_artist song_name artist_name\n",
       "1 Chorus       Mac Miller     2009      Mac Miller \n",
       "2 Chorus       Mac Miller     2009      Mac Miller \n",
       "3 Chorus       Mac Miller     2009      Mac Miller \n",
       "4 Chorus       Mac Miller     2009      Mac Miller \n",
       "5 Chorus       Mac Miller     2009      Mac Miller \n",
       "6 Chorus       Mac Miller     2009      Mac Miller \n",
       "  song_lyrics_url                          \n",
       "1 https://genius.com/Mac-miller-2009-lyrics\n",
       "2 https://genius.com/Mac-miller-2009-lyrics\n",
       "3 https://genius.com/Mac-miller-2009-lyrics\n",
       "4 https://genius.com/Mac-miller-2009-lyrics\n",
       "5 https://genius.com/Mac-miller-2009-lyrics\n",
       "6 https://genius.com/Mac-miller-2009-lyrics"
      ]
     },
     "metadata": {},
     "output_type": "display_data"
    }
   ],
   "source": [
    "song1 <- get_lyrics_url('https://genius.com/Mac-miller-self-care-lyrics')\n",
    "song2 <- get_lyrics_url('https://genius.com/Mac-miller-good-news-lyrics')\n",
    "song3 <- get_lyrics_url('https://genius.com/Mac-miller-weekend-lyrics')\n",
    "song4 <- get_lyrics_url('https://genius.com/Mac-miller-objects-in-the-mirror-lyrics')\n",
    "song5 <- get_lyrics_url('https://genius.com/Mac-miller-2009-lyrics')\n",
    "\n",
    "songs <- rbind(song1,song2,song3,song4,song5)\n",
    "head(songs)\n",
    "tail(songs)"
   ]
  },
  {
   "cell_type": "markdown",
   "metadata": {},
   "source": [
    "This is a sentiment analysis of mac millers albums"
   ]
  },
  {
   "cell_type": "code",
   "execution_count": 156,
   "metadata": {},
   "outputs": [],
   "source": [
    "kids1 <- get_lyrics_url('https://genius.com/Mac-miller-kickin-incredibly-dope-shit-intro-lyrics')\n",
    "kids2 <- get_lyrics_url('https://genius.com/Mac-miller-outside-lyrics')\n",
    "kids3 <- get_lyrics_url('https://genius.com/Mac-miller-get-em-up-lyrics')\n",
    "kids4 <- get_lyrics_url('https://genius.com/Mac-miller-nikes-on-my-feet-lyrics')\n",
    "kids5 <- get_lyrics_url('https://genius.com/Mac-miller-senior-skip-day-lyrics')\n",
    "kids6 <- get_lyrics_url('https://genius.com/Mac-miller-the-spins-lyrics')\n",
    "kids7 <- get_lyrics_url('https://genius.com/Mac-miller-traffic-in-the-sky-lyrics')\n",
    "kids8 <- get_lyrics_url('https://genius.com/Mac-miller-dont-mind-if-i-do-lyrics')\n",
    "kids9 <- get_lyrics_url('https://genius.com/Mac-miller-paper-route-lyrics')\n",
    "kids10 <- get_lyrics_url('https://genius.com/Mac-miller-good-evening-lyrics')\n",
    "kids11 <- get_lyrics_url('https://genius.com/Mac-miller-ride-around-lyrics')\n",
    "kids12 <- get_lyrics_url('https://genius.com/Mac-miller-knock-knock-lyrics')\n",
    "kids13 <- get_lyrics_url('https://genius.com/Mac-miller-mad-flava-heavy-flow-interlude-lyrics')\n",
    "kids14 <- get_lyrics_url('https://genius.com/Mac-miller-kool-aid-and-frozen-pizza-lyrics')\n",
    "kids15 <- get_lyrics_url('https://genius.com/Mac-miller-all-i-want-is-you-lyrics')\n",
    "kids16 <- get_lyrics_url('https://genius.com/Mac-miller-poppy-lyrics')\n",
    "kids17 <- get_lyrics_url('https://genius.com/Mac-miller-face-in-the-crowd-lyrics')\n",
    "kids18 <- get_lyrics_url('https://genius.com/Mac-miller-la-la-la-la-lyrics')\n",
    "\n",
    "kids <- rbind(kids1, kids2, kids3, kids4, kids5, kids6, kids7, kids8, kids9, kids10, kids11, kids12, kids13, kids14, kids15, kids16, kids17, kids18)\n",
    "\n",
    "\n",
    "swimming1 <- get_lyrics_url('https://genius.com/Mac-miller-come-back-to-earth-lyrics')\n",
    "swimming2 <- get_lyrics_url('https://genius.com/Mac-miller-hurt-feelings-lyrics')\n",
    "swimming3 <- get_lyrics_url('https://genius.com/Mac-miller-whats-the-use-lyrics')\n",
    "swimming4 <- get_lyrics_url('https://genius.com/Mac-miller-perfecto-lyrics')\n",
    "swimming5 <- get_lyrics_url('https://genius.com/Mac-miller-self-care-lyrics')\n",
    "swimming6 <- get_lyrics_url('https://genius.com/Mac-miller-wings-lyrics')\n",
    "swimming7 <- get_lyrics_url('https://genius.com/Mac-miller-ladders-lyrics')\n",
    "swimming8 <- get_lyrics_url('https://genius.com/Mac-miller-small-worlds-lyrics')\n",
    "swimming9 <- get_lyrics_url('https://genius.com/Mac-miller-conversation-pt-1-lyrics')\n",
    "swimming10 <- get_lyrics_url('https://genius.com/Mac-miller-dunno-lyrics')\n",
    "swimming11 <- get_lyrics_url('https://genius.com/Mac-miller-jet-fuel-lyrics')\n",
    "swimming12 <- get_lyrics_url('https://genius.com/Mac-miller-2009-lyrics')\n",
    "swimming13 <- get_lyrics_url('https://genius.com/Mac-miller-so-it-goes-lyrics')\n",
    "\n",
    "swimming <- rbind(swimming1, swimming2, swimming3, swimming4, swimming5, swimming6, swimming7, swimming8, swimming9, swimming10, swimming11, swimming12, swimming13)\n"
   ]
  },
  {
   "cell_type": "code",
   "execution_count": 157,
   "metadata": {},
   "outputs": [
    {
     "data": {
      "text/html": [
       "<table>\n",
       "<caption>A tibble: 6 × 6</caption>\n",
       "<thead>\n",
       "\t<tr><th scope=col>line</th><th scope=col>section_name</th><th scope=col>section_artist</th><th scope=col>song_name</th><th scope=col>artist_name</th><th scope=col>song_lyrics_url</th></tr>\n",
       "\t<tr><th scope=col>&lt;chr&gt;</th><th scope=col>&lt;chr&gt;</th><th scope=col>&lt;chr&gt;</th><th scope=col>&lt;chr&gt;</th><th scope=col>&lt;chr&gt;</th><th scope=col>&lt;chr&gt;</th></tr>\n",
       "</thead>\n",
       "<tbody>\n",
       "\t<tr><td><span style=white-space:pre-wrap>When you're young, not much matters                                 </span></td><td>Intro</td><td>Telly &amp; Mac Miller</td><td>Kickin’ Incredibly Dope Shit (Intro)</td><td>Mac Miller</td><td>https://genius.com/Mac-miller-kickin-incredibly-dope-shit-intro-lyrics</td></tr>\n",
       "\t<tr><td>When you find something that you care about, then that's all you got</td><td>Intro</td><td>Telly &amp; Mac Miller</td><td>Kickin’ Incredibly Dope Shit (Intro)</td><td>Mac Miller</td><td>https://genius.com/Mac-miller-kickin-incredibly-dope-shit-intro-lyrics</td></tr>\n",
       "\t<tr><td><span style=white-space:pre-wrap>When you go to sleep at night, you dream of music                   </span></td><td>Intro</td><td>Telly &amp; Mac Miller</td><td>Kickin’ Incredibly Dope Shit (Intro)</td><td>Mac Miller</td><td>https://genius.com/Mac-miller-kickin-incredibly-dope-shit-intro-lyrics</td></tr>\n",
       "\t<tr><td><span style=white-space:pre-wrap>When you wake up, it's the same thing                               </span></td><td>Intro</td><td>Telly &amp; Mac Miller</td><td>Kickin’ Incredibly Dope Shit (Intro)</td><td>Mac Miller</td><td>https://genius.com/Mac-miller-kickin-incredibly-dope-shit-intro-lyrics</td></tr>\n",
       "\t<tr><td><span style=white-space:pre-wrap>It's there in your face, you can't escape it                        </span></td><td>Intro</td><td>Telly &amp; Mac Miller</td><td>Kickin’ Incredibly Dope Shit (Intro)</td><td>Mac Miller</td><td>https://genius.com/Mac-miller-kickin-incredibly-dope-shit-intro-lyrics</td></tr>\n",
       "\t<tr><td><span style=white-space:pre-wrap>Sometimes when you're young                                         </span></td><td>Intro</td><td>Telly &amp; Mac Miller</td><td>Kickin’ Incredibly Dope Shit (Intro)</td><td>Mac Miller</td><td>https://genius.com/Mac-miller-kickin-incredibly-dope-shit-intro-lyrics</td></tr>\n",
       "</tbody>\n",
       "</table>\n"
      ],
      "text/latex": [
       "A tibble: 6 × 6\n",
       "\\begin{tabular}{llllll}\n",
       " line & section\\_name & section\\_artist & song\\_name & artist\\_name & song\\_lyrics\\_url\\\\\n",
       " <chr> & <chr> & <chr> & <chr> & <chr> & <chr>\\\\\n",
       "\\hline\n",
       "\t When you're young, not much matters                                  & Intro & Telly \\& Mac Miller & Kickin’ Incredibly Dope Shit (Intro) & Mac Miller & https://genius.com/Mac-miller-kickin-incredibly-dope-shit-intro-lyrics\\\\\n",
       "\t When you find something that you care about, then that's all you got & Intro & Telly \\& Mac Miller & Kickin’ Incredibly Dope Shit (Intro) & Mac Miller & https://genius.com/Mac-miller-kickin-incredibly-dope-shit-intro-lyrics\\\\\n",
       "\t When you go to sleep at night, you dream of music                    & Intro & Telly \\& Mac Miller & Kickin’ Incredibly Dope Shit (Intro) & Mac Miller & https://genius.com/Mac-miller-kickin-incredibly-dope-shit-intro-lyrics\\\\\n",
       "\t When you wake up, it's the same thing                                & Intro & Telly \\& Mac Miller & Kickin’ Incredibly Dope Shit (Intro) & Mac Miller & https://genius.com/Mac-miller-kickin-incredibly-dope-shit-intro-lyrics\\\\\n",
       "\t It's there in your face, you can't escape it                         & Intro & Telly \\& Mac Miller & Kickin’ Incredibly Dope Shit (Intro) & Mac Miller & https://genius.com/Mac-miller-kickin-incredibly-dope-shit-intro-lyrics\\\\\n",
       "\t Sometimes when you're young                                          & Intro & Telly \\& Mac Miller & Kickin’ Incredibly Dope Shit (Intro) & Mac Miller & https://genius.com/Mac-miller-kickin-incredibly-dope-shit-intro-lyrics\\\\\n",
       "\\end{tabular}\n"
      ],
      "text/markdown": [
       "\n",
       "A tibble: 6 × 6\n",
       "\n",
       "| line &lt;chr&gt; | section_name &lt;chr&gt; | section_artist &lt;chr&gt; | song_name &lt;chr&gt; | artist_name &lt;chr&gt; | song_lyrics_url &lt;chr&gt; |\n",
       "|---|---|---|---|---|---|\n",
       "| When you're young, not much matters                                  | Intro | Telly &amp; Mac Miller | Kickin’ Incredibly Dope Shit (Intro) | Mac Miller | https://genius.com/Mac-miller-kickin-incredibly-dope-shit-intro-lyrics |\n",
       "| When you find something that you care about, then that's all you got | Intro | Telly &amp; Mac Miller | Kickin’ Incredibly Dope Shit (Intro) | Mac Miller | https://genius.com/Mac-miller-kickin-incredibly-dope-shit-intro-lyrics |\n",
       "| When you go to sleep at night, you dream of music                    | Intro | Telly &amp; Mac Miller | Kickin’ Incredibly Dope Shit (Intro) | Mac Miller | https://genius.com/Mac-miller-kickin-incredibly-dope-shit-intro-lyrics |\n",
       "| When you wake up, it's the same thing                                | Intro | Telly &amp; Mac Miller | Kickin’ Incredibly Dope Shit (Intro) | Mac Miller | https://genius.com/Mac-miller-kickin-incredibly-dope-shit-intro-lyrics |\n",
       "| It's there in your face, you can't escape it                         | Intro | Telly &amp; Mac Miller | Kickin’ Incredibly Dope Shit (Intro) | Mac Miller | https://genius.com/Mac-miller-kickin-incredibly-dope-shit-intro-lyrics |\n",
       "| Sometimes when you're young                                          | Intro | Telly &amp; Mac Miller | Kickin’ Incredibly Dope Shit (Intro) | Mac Miller | https://genius.com/Mac-miller-kickin-incredibly-dope-shit-intro-lyrics |\n",
       "\n"
      ],
      "text/plain": [
       "  line                                                                \n",
       "1 When you're young, not much matters                                 \n",
       "2 When you find something that you care about, then that's all you got\n",
       "3 When you go to sleep at night, you dream of music                   \n",
       "4 When you wake up, it's the same thing                               \n",
       "5 It's there in your face, you can't escape it                        \n",
       "6 Sometimes when you're young                                         \n",
       "  section_name section_artist     song_name                           \n",
       "1 Intro        Telly & Mac Miller Kickin’ Incredibly Dope Shit (Intro)\n",
       "2 Intro        Telly & Mac Miller Kickin’ Incredibly Dope Shit (Intro)\n",
       "3 Intro        Telly & Mac Miller Kickin’ Incredibly Dope Shit (Intro)\n",
       "4 Intro        Telly & Mac Miller Kickin’ Incredibly Dope Shit (Intro)\n",
       "5 Intro        Telly & Mac Miller Kickin’ Incredibly Dope Shit (Intro)\n",
       "6 Intro        Telly & Mac Miller Kickin’ Incredibly Dope Shit (Intro)\n",
       "  artist_name\n",
       "1 Mac Miller \n",
       "2 Mac Miller \n",
       "3 Mac Miller \n",
       "4 Mac Miller \n",
       "5 Mac Miller \n",
       "6 Mac Miller \n",
       "  song_lyrics_url                                                       \n",
       "1 https://genius.com/Mac-miller-kickin-incredibly-dope-shit-intro-lyrics\n",
       "2 https://genius.com/Mac-miller-kickin-incredibly-dope-shit-intro-lyrics\n",
       "3 https://genius.com/Mac-miller-kickin-incredibly-dope-shit-intro-lyrics\n",
       "4 https://genius.com/Mac-miller-kickin-incredibly-dope-shit-intro-lyrics\n",
       "5 https://genius.com/Mac-miller-kickin-incredibly-dope-shit-intro-lyrics\n",
       "6 https://genius.com/Mac-miller-kickin-incredibly-dope-shit-intro-lyrics"
      ]
     },
     "metadata": {},
     "output_type": "display_data"
    },
    {
     "data": {
      "text/html": [
       "<table>\n",
       "<caption>A tibble: 6 × 6</caption>\n",
       "<thead>\n",
       "\t<tr><th scope=col>line</th><th scope=col>section_name</th><th scope=col>section_artist</th><th scope=col>song_name</th><th scope=col>artist_name</th><th scope=col>song_lyrics_url</th></tr>\n",
       "\t<tr><th scope=col>&lt;chr&gt;</th><th scope=col>&lt;chr&gt;</th><th scope=col>&lt;chr&gt;</th><th scope=col>&lt;chr&gt;</th><th scope=col>&lt;chr&gt;</th><th scope=col>&lt;chr&gt;</th></tr>\n",
       "</thead>\n",
       "<tbody>\n",
       "\t<tr><td>My regrets look just like texts I shouldn't send</td><td>Chorus</td><td>Mac Miller</td><td>Come Back to Earth</td><td>Mac Miller</td><td>https://genius.com/Mac-miller-come-back-to-earth-lyrics</td></tr>\n",
       "\t<tr><td>And I got neighbors, they're more like strangers</td><td>Chorus</td><td>Mac Miller</td><td>Come Back to Earth</td><td>Mac Miller</td><td>https://genius.com/Mac-miller-come-back-to-earth-lyrics</td></tr>\n",
       "\t<tr><td>We could be friends                             </td><td>Chorus</td><td>Mac Miller</td><td>Come Back to Earth</td><td>Mac Miller</td><td>https://genius.com/Mac-miller-come-back-to-earth-lyrics</td></tr>\n",
       "\t<tr><td>I just need a way out                           </td><td>Chorus</td><td>Mac Miller</td><td>Come Back to Earth</td><td>Mac Miller</td><td>https://genius.com/Mac-miller-come-back-to-earth-lyrics</td></tr>\n",
       "\t<tr><td>Of my head                                      </td><td>Chorus</td><td>Mac Miller</td><td>Come Back to Earth</td><td>Mac Miller</td><td>https://genius.com/Mac-miller-come-back-to-earth-lyrics</td></tr>\n",
       "\t<tr><td>I'll do anything for a way out                  </td><td>Chorus</td><td>Mac Miller</td><td>Come Back to Earth</td><td>Mac Miller</td><td>https://genius.com/Mac-miller-come-back-to-earth-lyrics</td></tr>\n",
       "</tbody>\n",
       "</table>\n"
      ],
      "text/latex": [
       "A tibble: 6 × 6\n",
       "\\begin{tabular}{llllll}\n",
       " line & section\\_name & section\\_artist & song\\_name & artist\\_name & song\\_lyrics\\_url\\\\\n",
       " <chr> & <chr> & <chr> & <chr> & <chr> & <chr>\\\\\n",
       "\\hline\n",
       "\t My regrets look just like texts I shouldn't send & Chorus & Mac Miller & Come Back to Earth & Mac Miller & https://genius.com/Mac-miller-come-back-to-earth-lyrics\\\\\n",
       "\t And I got neighbors, they're more like strangers & Chorus & Mac Miller & Come Back to Earth & Mac Miller & https://genius.com/Mac-miller-come-back-to-earth-lyrics\\\\\n",
       "\t We could be friends                              & Chorus & Mac Miller & Come Back to Earth & Mac Miller & https://genius.com/Mac-miller-come-back-to-earth-lyrics\\\\\n",
       "\t I just need a way out                            & Chorus & Mac Miller & Come Back to Earth & Mac Miller & https://genius.com/Mac-miller-come-back-to-earth-lyrics\\\\\n",
       "\t Of my head                                       & Chorus & Mac Miller & Come Back to Earth & Mac Miller & https://genius.com/Mac-miller-come-back-to-earth-lyrics\\\\\n",
       "\t I'll do anything for a way out                   & Chorus & Mac Miller & Come Back to Earth & Mac Miller & https://genius.com/Mac-miller-come-back-to-earth-lyrics\\\\\n",
       "\\end{tabular}\n"
      ],
      "text/markdown": [
       "\n",
       "A tibble: 6 × 6\n",
       "\n",
       "| line &lt;chr&gt; | section_name &lt;chr&gt; | section_artist &lt;chr&gt; | song_name &lt;chr&gt; | artist_name &lt;chr&gt; | song_lyrics_url &lt;chr&gt; |\n",
       "|---|---|---|---|---|---|\n",
       "| My regrets look just like texts I shouldn't send | Chorus | Mac Miller | Come Back to Earth | Mac Miller | https://genius.com/Mac-miller-come-back-to-earth-lyrics |\n",
       "| And I got neighbors, they're more like strangers | Chorus | Mac Miller | Come Back to Earth | Mac Miller | https://genius.com/Mac-miller-come-back-to-earth-lyrics |\n",
       "| We could be friends                              | Chorus | Mac Miller | Come Back to Earth | Mac Miller | https://genius.com/Mac-miller-come-back-to-earth-lyrics |\n",
       "| I just need a way out                            | Chorus | Mac Miller | Come Back to Earth | Mac Miller | https://genius.com/Mac-miller-come-back-to-earth-lyrics |\n",
       "| Of my head                                       | Chorus | Mac Miller | Come Back to Earth | Mac Miller | https://genius.com/Mac-miller-come-back-to-earth-lyrics |\n",
       "| I'll do anything for a way out                   | Chorus | Mac Miller | Come Back to Earth | Mac Miller | https://genius.com/Mac-miller-come-back-to-earth-lyrics |\n",
       "\n"
      ],
      "text/plain": [
       "  line                                             section_name section_artist\n",
       "1 My regrets look just like texts I shouldn't send Chorus       Mac Miller    \n",
       "2 And I got neighbors, they're more like strangers Chorus       Mac Miller    \n",
       "3 We could be friends                              Chorus       Mac Miller    \n",
       "4 I just need a way out                            Chorus       Mac Miller    \n",
       "5 Of my head                                       Chorus       Mac Miller    \n",
       "6 I'll do anything for a way out                   Chorus       Mac Miller    \n",
       "  song_name          artist_name\n",
       "1 Come Back to Earth Mac Miller \n",
       "2 Come Back to Earth Mac Miller \n",
       "3 Come Back to Earth Mac Miller \n",
       "4 Come Back to Earth Mac Miller \n",
       "5 Come Back to Earth Mac Miller \n",
       "6 Come Back to Earth Mac Miller \n",
       "  song_lyrics_url                                        \n",
       "1 https://genius.com/Mac-miller-come-back-to-earth-lyrics\n",
       "2 https://genius.com/Mac-miller-come-back-to-earth-lyrics\n",
       "3 https://genius.com/Mac-miller-come-back-to-earth-lyrics\n",
       "4 https://genius.com/Mac-miller-come-back-to-earth-lyrics\n",
       "5 https://genius.com/Mac-miller-come-back-to-earth-lyrics\n",
       "6 https://genius.com/Mac-miller-come-back-to-earth-lyrics"
      ]
     },
     "metadata": {},
     "output_type": "display_data"
    }
   ],
   "source": [
    "head(kids)\n",
    "head(swimming)"
   ]
  },
  {
   "cell_type": "code",
   "execution_count": 158,
   "metadata": {},
   "outputs": [
    {
     "data": {
      "text/html": [
       "<table>\n",
       "<caption>A data.frame: 6 × 2</caption>\n",
       "<thead>\n",
       "\t<tr><th></th><th scope=col>word</th><th scope=col>score</th></tr>\n",
       "\t<tr><th></th><th scope=col>&lt;chr&gt;</th><th scope=col>&lt;int&gt;</th></tr>\n",
       "</thead>\n",
       "<tbody>\n",
       "\t<tr><th scope=row>1</th><td>abandon   </td><td>-2</td></tr>\n",
       "\t<tr><th scope=row>2</th><td>abandoned </td><td>-2</td></tr>\n",
       "\t<tr><th scope=row>3</th><td>abandons  </td><td>-2</td></tr>\n",
       "\t<tr><th scope=row>4</th><td>abducted  </td><td>-2</td></tr>\n",
       "\t<tr><th scope=row>5</th><td>abduction </td><td>-2</td></tr>\n",
       "\t<tr><th scope=row>6</th><td>abductions</td><td>-2</td></tr>\n",
       "</tbody>\n",
       "</table>\n"
      ],
      "text/latex": [
       "A data.frame: 6 × 2\n",
       "\\begin{tabular}{r|ll}\n",
       "  & word & score\\\\\n",
       "  & <chr> & <int>\\\\\n",
       "\\hline\n",
       "\t1 & abandon    & -2\\\\\n",
       "\t2 & abandoned  & -2\\\\\n",
       "\t3 & abandons   & -2\\\\\n",
       "\t4 & abducted   & -2\\\\\n",
       "\t5 & abduction  & -2\\\\\n",
       "\t6 & abductions & -2\\\\\n",
       "\\end{tabular}\n"
      ],
      "text/markdown": [
       "\n",
       "A data.frame: 6 × 2\n",
       "\n",
       "| <!--/--> | word &lt;chr&gt; | score &lt;int&gt; |\n",
       "|---|---|---|\n",
       "| 1 | abandon    | -2 |\n",
       "| 2 | abandoned  | -2 |\n",
       "| 3 | abandons   | -2 |\n",
       "| 4 | abducted   | -2 |\n",
       "| 5 | abduction  | -2 |\n",
       "| 6 | abductions | -2 |\n",
       "\n"
      ],
      "text/plain": [
       "  word       score\n",
       "1 abandon    -2   \n",
       "2 abandoned  -2   \n",
       "3 abandons   -2   \n",
       "4 abducted   -2   \n",
       "5 abduction  -2   \n",
       "6 abductions -2   "
      ]
     },
     "metadata": {},
     "output_type": "display_data"
    }
   ],
   "source": [
    "afinn <- read.delim(\"afinn.txt\", header = FALSE)\n",
    "colnames(afinn)[1] <- \"word\"\n",
    "colnames(afinn)[2] <- \"score\"\n",
    "head(afinn)\n",
    "# get_sentiments(\"afinn\")"
   ]
  },
  {
   "cell_type": "code",
   "execution_count": 166,
   "metadata": {},
   "outputs": [
    {
     "data": {
      "text/html": [
       "<table>\n",
       "<caption>A tibble: 6 × 6</caption>\n",
       "<thead>\n",
       "\t<tr><th scope=col>section_name</th><th scope=col>section_artist</th><th scope=col>song_name</th><th scope=col>artist_name</th><th scope=col>song_lyrics_url</th><th scope=col>word</th></tr>\n",
       "\t<tr><th scope=col>&lt;chr&gt;</th><th scope=col>&lt;chr&gt;</th><th scope=col>&lt;chr&gt;</th><th scope=col>&lt;chr&gt;</th><th scope=col>&lt;chr&gt;</th><th scope=col>&lt;chr&gt;</th></tr>\n",
       "</thead>\n",
       "<tbody>\n",
       "\t<tr><td>Intro</td><td>Telly &amp; Mac Miller</td><td>Kickin’ Incredibly Dope Shit (Intro)</td><td>Mac Miller</td><td>https://genius.com/Mac-miller-kickin-incredibly-dope-shit-intro-lyrics</td><td>matters</td></tr>\n",
       "\t<tr><td>Intro</td><td>Telly &amp; Mac Miller</td><td>Kickin’ Incredibly Dope Shit (Intro)</td><td>Mac Miller</td><td>https://genius.com/Mac-miller-kickin-incredibly-dope-shit-intro-lyrics</td><td><span style=white-space:pre-wrap>care   </span></td></tr>\n",
       "\t<tr><td>Intro</td><td>Telly &amp; Mac Miller</td><td>Kickin’ Incredibly Dope Shit (Intro)</td><td>Mac Miller</td><td>https://genius.com/Mac-miller-kickin-incredibly-dope-shit-intro-lyrics</td><td><span style=white-space:pre-wrap>dream  </span></td></tr>\n",
       "\t<tr><td>Intro</td><td>Telly &amp; Mac Miller</td><td>Kickin’ Incredibly Dope Shit (Intro)</td><td>Mac Miller</td><td>https://genius.com/Mac-miller-kickin-incredibly-dope-shit-intro-lyrics</td><td>escape </td></tr>\n",
       "\t<tr><td>Intro</td><td>Telly &amp; Mac Miller</td><td>Kickin’ Incredibly Dope Shit (Intro)</td><td>Mac Miller</td><td>https://genius.com/Mac-miller-kickin-incredibly-dope-shit-intro-lyrics</td><td><span style=white-space:pre-wrap>love   </span></td></tr>\n",
       "\t<tr><td>Intro</td><td>Telly &amp; Mac Miller</td><td>Kickin’ Incredibly Dope Shit (Intro)</td><td>Mac Miller</td><td>https://genius.com/Mac-miller-kickin-incredibly-dope-shit-intro-lyrics</td><td><span style=white-space:pre-wrap>shit   </span></td></tr>\n",
       "</tbody>\n",
       "</table>\n"
      ],
      "text/latex": [
       "A tibble: 6 × 6\n",
       "\\begin{tabular}{llllll}\n",
       " section\\_name & section\\_artist & song\\_name & artist\\_name & song\\_lyrics\\_url & word\\\\\n",
       " <chr> & <chr> & <chr> & <chr> & <chr> & <chr>\\\\\n",
       "\\hline\n",
       "\t Intro & Telly \\& Mac Miller & Kickin’ Incredibly Dope Shit (Intro) & Mac Miller & https://genius.com/Mac-miller-kickin-incredibly-dope-shit-intro-lyrics & matters\\\\\n",
       "\t Intro & Telly \\& Mac Miller & Kickin’ Incredibly Dope Shit (Intro) & Mac Miller & https://genius.com/Mac-miller-kickin-incredibly-dope-shit-intro-lyrics & care   \\\\\n",
       "\t Intro & Telly \\& Mac Miller & Kickin’ Incredibly Dope Shit (Intro) & Mac Miller & https://genius.com/Mac-miller-kickin-incredibly-dope-shit-intro-lyrics & dream  \\\\\n",
       "\t Intro & Telly \\& Mac Miller & Kickin’ Incredibly Dope Shit (Intro) & Mac Miller & https://genius.com/Mac-miller-kickin-incredibly-dope-shit-intro-lyrics & escape \\\\\n",
       "\t Intro & Telly \\& Mac Miller & Kickin’ Incredibly Dope Shit (Intro) & Mac Miller & https://genius.com/Mac-miller-kickin-incredibly-dope-shit-intro-lyrics & love   \\\\\n",
       "\t Intro & Telly \\& Mac Miller & Kickin’ Incredibly Dope Shit (Intro) & Mac Miller & https://genius.com/Mac-miller-kickin-incredibly-dope-shit-intro-lyrics & shit   \\\\\n",
       "\\end{tabular}\n"
      ],
      "text/markdown": [
       "\n",
       "A tibble: 6 × 6\n",
       "\n",
       "| section_name &lt;chr&gt; | section_artist &lt;chr&gt; | song_name &lt;chr&gt; | artist_name &lt;chr&gt; | song_lyrics_url &lt;chr&gt; | word &lt;chr&gt; |\n",
       "|---|---|---|---|---|---|\n",
       "| Intro | Telly &amp; Mac Miller | Kickin’ Incredibly Dope Shit (Intro) | Mac Miller | https://genius.com/Mac-miller-kickin-incredibly-dope-shit-intro-lyrics | matters |\n",
       "| Intro | Telly &amp; Mac Miller | Kickin’ Incredibly Dope Shit (Intro) | Mac Miller | https://genius.com/Mac-miller-kickin-incredibly-dope-shit-intro-lyrics | care    |\n",
       "| Intro | Telly &amp; Mac Miller | Kickin’ Incredibly Dope Shit (Intro) | Mac Miller | https://genius.com/Mac-miller-kickin-incredibly-dope-shit-intro-lyrics | dream   |\n",
       "| Intro | Telly &amp; Mac Miller | Kickin’ Incredibly Dope Shit (Intro) | Mac Miller | https://genius.com/Mac-miller-kickin-incredibly-dope-shit-intro-lyrics | escape  |\n",
       "| Intro | Telly &amp; Mac Miller | Kickin’ Incredibly Dope Shit (Intro) | Mac Miller | https://genius.com/Mac-miller-kickin-incredibly-dope-shit-intro-lyrics | love    |\n",
       "| Intro | Telly &amp; Mac Miller | Kickin’ Incredibly Dope Shit (Intro) | Mac Miller | https://genius.com/Mac-miller-kickin-incredibly-dope-shit-intro-lyrics | shit    |\n",
       "\n"
      ],
      "text/plain": [
       "  section_name section_artist     song_name                           \n",
       "1 Intro        Telly & Mac Miller Kickin’ Incredibly Dope Shit (Intro)\n",
       "2 Intro        Telly & Mac Miller Kickin’ Incredibly Dope Shit (Intro)\n",
       "3 Intro        Telly & Mac Miller Kickin’ Incredibly Dope Shit (Intro)\n",
       "4 Intro        Telly & Mac Miller Kickin’ Incredibly Dope Shit (Intro)\n",
       "5 Intro        Telly & Mac Miller Kickin’ Incredibly Dope Shit (Intro)\n",
       "6 Intro        Telly & Mac Miller Kickin’ Incredibly Dope Shit (Intro)\n",
       "  artist_name\n",
       "1 Mac Miller \n",
       "2 Mac Miller \n",
       "3 Mac Miller \n",
       "4 Mac Miller \n",
       "5 Mac Miller \n",
       "6 Mac Miller \n",
       "  song_lyrics_url                                                       \n",
       "1 https://genius.com/Mac-miller-kickin-incredibly-dope-shit-intro-lyrics\n",
       "2 https://genius.com/Mac-miller-kickin-incredibly-dope-shit-intro-lyrics\n",
       "3 https://genius.com/Mac-miller-kickin-incredibly-dope-shit-intro-lyrics\n",
       "4 https://genius.com/Mac-miller-kickin-incredibly-dope-shit-intro-lyrics\n",
       "5 https://genius.com/Mac-miller-kickin-incredibly-dope-shit-intro-lyrics\n",
       "6 https://genius.com/Mac-miller-kickin-incredibly-dope-shit-intro-lyrics\n",
       "  word   \n",
       "1 matters\n",
       "2 care   \n",
       "3 dream  \n",
       "4 escape \n",
       "5 love   \n",
       "6 shit   "
      ]
     },
     "metadata": {},
     "output_type": "display_data"
    },
    {
     "data": {
      "text/html": [
       "<table>\n",
       "<caption>A tibble: 6 × 6</caption>\n",
       "<thead>\n",
       "\t<tr><th scope=col>section_name</th><th scope=col>section_artist</th><th scope=col>song_name</th><th scope=col>artist_name</th><th scope=col>song_lyrics_url</th><th scope=col>word</th></tr>\n",
       "\t<tr><th scope=col>&lt;chr&gt;</th><th scope=col>&lt;chr&gt;</th><th scope=col>&lt;chr&gt;</th><th scope=col>&lt;chr&gt;</th><th scope=col>&lt;chr&gt;</th><th scope=col>&lt;chr&gt;</th></tr>\n",
       "</thead>\n",
       "<tbody>\n",
       "\t<tr><td>Chorus</td><td>Mac Miller</td><td>Come Back to Earth</td><td>Mac Miller</td><td>https://genius.com/Mac-miller-come-back-to-earth-lyrics</td><td>regrets</td></tr>\n",
       "\t<tr><td>Chorus</td><td>Mac Miller</td><td>Come Back to Earth</td><td>Mac Miller</td><td>https://genius.com/Mac-miller-come-back-to-earth-lyrics</td><td>like   </td></tr>\n",
       "\t<tr><td>Chorus</td><td>Mac Miller</td><td>Come Back to Earth</td><td>Mac Miller</td><td>https://genius.com/Mac-miller-come-back-to-earth-lyrics</td><td>like   </td></tr>\n",
       "\t<tr><td>Verse </td><td>Mac Miller</td><td>Come Back to Earth</td><td>Mac Miller</td><td>https://genius.com/Mac-miller-come-back-to-earth-lyrics</td><td>like   </td></tr>\n",
       "\t<tr><td>Verse </td><td>Mac Miller</td><td>Come Back to Earth</td><td>Mac Miller</td><td>https://genius.com/Mac-miller-come-back-to-earth-lyrics</td><td>yeah   </td></tr>\n",
       "\t<tr><td>Verse </td><td>Mac Miller</td><td>Come Back to Earth</td><td>Mac Miller</td><td>https://genius.com/Mac-miller-come-back-to-earth-lyrics</td><td>hell   </td></tr>\n",
       "</tbody>\n",
       "</table>\n"
      ],
      "text/latex": [
       "A tibble: 6 × 6\n",
       "\\begin{tabular}{llllll}\n",
       " section\\_name & section\\_artist & song\\_name & artist\\_name & song\\_lyrics\\_url & word\\\\\n",
       " <chr> & <chr> & <chr> & <chr> & <chr> & <chr>\\\\\n",
       "\\hline\n",
       "\t Chorus & Mac Miller & Come Back to Earth & Mac Miller & https://genius.com/Mac-miller-come-back-to-earth-lyrics & regrets\\\\\n",
       "\t Chorus & Mac Miller & Come Back to Earth & Mac Miller & https://genius.com/Mac-miller-come-back-to-earth-lyrics & like   \\\\\n",
       "\t Chorus & Mac Miller & Come Back to Earth & Mac Miller & https://genius.com/Mac-miller-come-back-to-earth-lyrics & like   \\\\\n",
       "\t Verse  & Mac Miller & Come Back to Earth & Mac Miller & https://genius.com/Mac-miller-come-back-to-earth-lyrics & like   \\\\\n",
       "\t Verse  & Mac Miller & Come Back to Earth & Mac Miller & https://genius.com/Mac-miller-come-back-to-earth-lyrics & yeah   \\\\\n",
       "\t Verse  & Mac Miller & Come Back to Earth & Mac Miller & https://genius.com/Mac-miller-come-back-to-earth-lyrics & hell   \\\\\n",
       "\\end{tabular}\n"
      ],
      "text/markdown": [
       "\n",
       "A tibble: 6 × 6\n",
       "\n",
       "| section_name &lt;chr&gt; | section_artist &lt;chr&gt; | song_name &lt;chr&gt; | artist_name &lt;chr&gt; | song_lyrics_url &lt;chr&gt; | word &lt;chr&gt; |\n",
       "|---|---|---|---|---|---|\n",
       "| Chorus | Mac Miller | Come Back to Earth | Mac Miller | https://genius.com/Mac-miller-come-back-to-earth-lyrics | regrets |\n",
       "| Chorus | Mac Miller | Come Back to Earth | Mac Miller | https://genius.com/Mac-miller-come-back-to-earth-lyrics | like    |\n",
       "| Chorus | Mac Miller | Come Back to Earth | Mac Miller | https://genius.com/Mac-miller-come-back-to-earth-lyrics | like    |\n",
       "| Verse  | Mac Miller | Come Back to Earth | Mac Miller | https://genius.com/Mac-miller-come-back-to-earth-lyrics | like    |\n",
       "| Verse  | Mac Miller | Come Back to Earth | Mac Miller | https://genius.com/Mac-miller-come-back-to-earth-lyrics | yeah    |\n",
       "| Verse  | Mac Miller | Come Back to Earth | Mac Miller | https://genius.com/Mac-miller-come-back-to-earth-lyrics | hell    |\n",
       "\n"
      ],
      "text/plain": [
       "  section_name section_artist song_name          artist_name\n",
       "1 Chorus       Mac Miller     Come Back to Earth Mac Miller \n",
       "2 Chorus       Mac Miller     Come Back to Earth Mac Miller \n",
       "3 Chorus       Mac Miller     Come Back to Earth Mac Miller \n",
       "4 Verse        Mac Miller     Come Back to Earth Mac Miller \n",
       "5 Verse        Mac Miller     Come Back to Earth Mac Miller \n",
       "6 Verse        Mac Miller     Come Back to Earth Mac Miller \n",
       "  song_lyrics_url                                         word   \n",
       "1 https://genius.com/Mac-miller-come-back-to-earth-lyrics regrets\n",
       "2 https://genius.com/Mac-miller-come-back-to-earth-lyrics like   \n",
       "3 https://genius.com/Mac-miller-come-back-to-earth-lyrics like   \n",
       "4 https://genius.com/Mac-miller-come-back-to-earth-lyrics like   \n",
       "5 https://genius.com/Mac-miller-come-back-to-earth-lyrics yeah   \n",
       "6 https://genius.com/Mac-miller-come-back-to-earth-lyrics hell   "
      ]
     },
     "metadata": {},
     "output_type": "display_data"
    },
    {
     "data": {
      "text/html": [
       "-115"
      ],
      "text/latex": [
       "-115"
      ],
      "text/markdown": [
       "-115"
      ],
      "text/plain": [
       "[1] -115"
      ]
     },
     "metadata": {},
     "output_type": "display_data"
    },
    {
     "data": {
      "text/html": [
       "105"
      ],
      "text/latex": [
       "105"
      ],
      "text/markdown": [
       "105"
      ],
      "text/plain": [
       "[1] 105"
      ]
     },
     "metadata": {},
     "output_type": "display_data"
    }
   ],
   "source": [
    "split_kids <- unnest_tokens(tbl = kids, output = word, input = line, token = \"words\", to_lower = TRUE)\n",
    "filtered_kids <- filter(split_kids, word %in% afinn$word)\n",
    "\n",
    "split_swimming <- unnest_tokens(tbl = swimming, output = word, input = line, token = \"words\", to_lower = TRUE)\n",
    "filtered_swimming <- filter(split_swimming, word %in% afinn$word)\n",
    "\n",
    "head(filtered_kids)\n",
    "head(filtered_swimming)\n",
    "\n",
    "kids_afinn <- merge(filtered_kids, afinn, by = \"word\", all.x = TRUE)\n",
    "sum(kids_afinn$score)\n",
    "\n",
    "swimming_afinn <- merge(filtered_swimming, afinn, by = \"word\", all.x = TRUE)\n",
    "sum(swimming_afinn$score)"
   ]
  },
  {
   "cell_type": "markdown",
   "metadata": {},
   "source": [
    "After you have made your corpus you can start to make some graphs out of it! We will be using ggplot2 to do this. Most of the time we need to unnest_tokens if we are looking at word frequency. It is also good practice to filter out arbitrary words from your data because they will be the highest frequency words. You can easily check this if you do not believe me by graphing a song without filtering the data. You will see that the top words won't provide much room for analysis. stop_words is huge and houses lots of different categories to filter out words. Look through the different libraries to decide which one you should use. (PUT LINK HERE)"
   ]
  },
  {
   "cell_type": "code",
   "execution_count": 137,
   "metadata": {},
   "outputs": [
    {
     "data": {
      "text/html": [
       "<table>\n",
       "<caption>A tibble: 6 × 6</caption>\n",
       "<thead>\n",
       "\t<tr><th scope=col>section_name</th><th scope=col>section_artist</th><th scope=col>song_name</th><th scope=col>artist_name</th><th scope=col>song_lyrics_url</th><th scope=col>word</th></tr>\n",
       "\t<tr><th scope=col>&lt;chr&gt;</th><th scope=col>&lt;chr&gt;</th><th scope=col>&lt;chr&gt;</th><th scope=col>&lt;chr&gt;</th><th scope=col>&lt;chr&gt;</th><th scope=col>&lt;chr&gt;</th></tr>\n",
       "</thead>\n",
       "<tbody>\n",
       "\t<tr><td>Intro</td><td>Mac Miller</td><td>Self Care</td><td>Mac Miller</td><td>https://genius.com/Mac-miller-self-care-lyrics</td><td>mhm </td></tr>\n",
       "\t<tr><td>Intro</td><td>Mac Miller</td><td>Self Care</td><td>Mac Miller</td><td>https://genius.com/Mac-miller-self-care-lyrics</td><td>mhm </td></tr>\n",
       "\t<tr><td>Intro</td><td>Mac Miller</td><td>Self Care</td><td>Mac Miller</td><td>https://genius.com/Mac-miller-self-care-lyrics</td><td>okay</td></tr>\n",
       "\t<tr><td>Intro</td><td>Mac Miller</td><td>Self Care</td><td>Mac Miller</td><td>https://genius.com/Mac-miller-self-care-lyrics</td><td>yeah</td></tr>\n",
       "\t<tr><td>Intro</td><td>Mac Miller</td><td>Self Care</td><td>Mac Miller</td><td>https://genius.com/Mac-miller-self-care-lyrics</td><td>yeah</td></tr>\n",
       "\t<tr><td>Intro</td><td>Mac Miller</td><td>Self Care</td><td>Mac Miller</td><td>https://genius.com/Mac-miller-self-care-lyrics</td><td>yeah</td></tr>\n",
       "</tbody>\n",
       "</table>\n"
      ],
      "text/latex": [
       "A tibble: 6 × 6\n",
       "\\begin{tabular}{llllll}\n",
       " section\\_name & section\\_artist & song\\_name & artist\\_name & song\\_lyrics\\_url & word\\\\\n",
       " <chr> & <chr> & <chr> & <chr> & <chr> & <chr>\\\\\n",
       "\\hline\n",
       "\t Intro & Mac Miller & Self Care & Mac Miller & https://genius.com/Mac-miller-self-care-lyrics & mhm \\\\\n",
       "\t Intro & Mac Miller & Self Care & Mac Miller & https://genius.com/Mac-miller-self-care-lyrics & mhm \\\\\n",
       "\t Intro & Mac Miller & Self Care & Mac Miller & https://genius.com/Mac-miller-self-care-lyrics & okay\\\\\n",
       "\t Intro & Mac Miller & Self Care & Mac Miller & https://genius.com/Mac-miller-self-care-lyrics & yeah\\\\\n",
       "\t Intro & Mac Miller & Self Care & Mac Miller & https://genius.com/Mac-miller-self-care-lyrics & yeah\\\\\n",
       "\t Intro & Mac Miller & Self Care & Mac Miller & https://genius.com/Mac-miller-self-care-lyrics & yeah\\\\\n",
       "\\end{tabular}\n"
      ],
      "text/markdown": [
       "\n",
       "A tibble: 6 × 6\n",
       "\n",
       "| section_name &lt;chr&gt; | section_artist &lt;chr&gt; | song_name &lt;chr&gt; | artist_name &lt;chr&gt; | song_lyrics_url &lt;chr&gt; | word &lt;chr&gt; |\n",
       "|---|---|---|---|---|---|\n",
       "| Intro | Mac Miller | Self Care | Mac Miller | https://genius.com/Mac-miller-self-care-lyrics | mhm  |\n",
       "| Intro | Mac Miller | Self Care | Mac Miller | https://genius.com/Mac-miller-self-care-lyrics | mhm  |\n",
       "| Intro | Mac Miller | Self Care | Mac Miller | https://genius.com/Mac-miller-self-care-lyrics | okay |\n",
       "| Intro | Mac Miller | Self Care | Mac Miller | https://genius.com/Mac-miller-self-care-lyrics | yeah |\n",
       "| Intro | Mac Miller | Self Care | Mac Miller | https://genius.com/Mac-miller-self-care-lyrics | yeah |\n",
       "| Intro | Mac Miller | Self Care | Mac Miller | https://genius.com/Mac-miller-self-care-lyrics | yeah |\n",
       "\n"
      ],
      "text/plain": [
       "  section_name section_artist song_name artist_name\n",
       "1 Intro        Mac Miller     Self Care Mac Miller \n",
       "2 Intro        Mac Miller     Self Care Mac Miller \n",
       "3 Intro        Mac Miller     Self Care Mac Miller \n",
       "4 Intro        Mac Miller     Self Care Mac Miller \n",
       "5 Intro        Mac Miller     Self Care Mac Miller \n",
       "6 Intro        Mac Miller     Self Care Mac Miller \n",
       "  song_lyrics_url                                word\n",
       "1 https://genius.com/Mac-miller-self-care-lyrics mhm \n",
       "2 https://genius.com/Mac-miller-self-care-lyrics mhm \n",
       "3 https://genius.com/Mac-miller-self-care-lyrics okay\n",
       "4 https://genius.com/Mac-miller-self-care-lyrics yeah\n",
       "5 https://genius.com/Mac-miller-self-care-lyrics yeah\n",
       "6 https://genius.com/Mac-miller-self-care-lyrics yeah"
      ]
     },
     "metadata": {},
     "output_type": "display_data"
    },
    {
     "data": {
      "text/html": [
       "<table>\n",
       "<caption>A tibble: 6 × 2</caption>\n",
       "<thead>\n",
       "\t<tr><th scope=col>word</th><th scope=col>lexicon</th></tr>\n",
       "\t<tr><th scope=col>&lt;chr&gt;</th><th scope=col>&lt;chr&gt;</th></tr>\n",
       "</thead>\n",
       "<tbody>\n",
       "\t<tr><td>a        </td><td>SMART</td></tr>\n",
       "\t<tr><td>a's      </td><td>SMART</td></tr>\n",
       "\t<tr><td>able     </td><td>SMART</td></tr>\n",
       "\t<tr><td>about    </td><td>SMART</td></tr>\n",
       "\t<tr><td>above    </td><td>SMART</td></tr>\n",
       "\t<tr><td>according</td><td>SMART</td></tr>\n",
       "</tbody>\n",
       "</table>\n"
      ],
      "text/latex": [
       "A tibble: 6 × 2\n",
       "\\begin{tabular}{ll}\n",
       " word & lexicon\\\\\n",
       " <chr> & <chr>\\\\\n",
       "\\hline\n",
       "\t a         & SMART\\\\\n",
       "\t a's       & SMART\\\\\n",
       "\t able      & SMART\\\\\n",
       "\t about     & SMART\\\\\n",
       "\t above     & SMART\\\\\n",
       "\t according & SMART\\\\\n",
       "\\end{tabular}\n"
      ],
      "text/markdown": [
       "\n",
       "A tibble: 6 × 2\n",
       "\n",
       "| word &lt;chr&gt; | lexicon &lt;chr&gt; |\n",
       "|---|---|\n",
       "| a         | SMART |\n",
       "| a's       | SMART |\n",
       "| able      | SMART |\n",
       "| about     | SMART |\n",
       "| above     | SMART |\n",
       "| according | SMART |\n",
       "\n"
      ],
      "text/plain": [
       "  word      lexicon\n",
       "1 a         SMART  \n",
       "2 a's       SMART  \n",
       "3 able      SMART  \n",
       "4 about     SMART  \n",
       "5 above     SMART  \n",
       "6 according SMART  "
      ]
     },
     "metadata": {},
     "output_type": "display_data"
    },
    {
     "data": {
      "text/html": [
       "<table>\n",
       "<caption>A tibble: 6 × 6</caption>\n",
       "<thead>\n",
       "\t<tr><th scope=col>section_name</th><th scope=col>section_artist</th><th scope=col>song_name</th><th scope=col>artist_name</th><th scope=col>song_lyrics_url</th><th scope=col>word</th></tr>\n",
       "\t<tr><th scope=col>&lt;chr&gt;</th><th scope=col>&lt;chr&gt;</th><th scope=col>&lt;chr&gt;</th><th scope=col>&lt;chr&gt;</th><th scope=col>&lt;chr&gt;</th><th scope=col>&lt;chr&gt;</th></tr>\n",
       "</thead>\n",
       "<tbody>\n",
       "\t<tr><td>Intro</td><td>Mac Miller</td><td>Self Care</td><td>Mac Miller</td><td>https://genius.com/Mac-miller-self-care-lyrics</td><td>mhm </td></tr>\n",
       "\t<tr><td>Intro</td><td>Mac Miller</td><td>Self Care</td><td>Mac Miller</td><td>https://genius.com/Mac-miller-self-care-lyrics</td><td>mhm </td></tr>\n",
       "\t<tr><td>Intro</td><td>Mac Miller</td><td>Self Care</td><td>Mac Miller</td><td>https://genius.com/Mac-miller-self-care-lyrics</td><td>okay</td></tr>\n",
       "\t<tr><td>Intro</td><td>Mac Miller</td><td>Self Care</td><td>Mac Miller</td><td>https://genius.com/Mac-miller-self-care-lyrics</td><td>yeah</td></tr>\n",
       "\t<tr><td>Intro</td><td>Mac Miller</td><td>Self Care</td><td>Mac Miller</td><td>https://genius.com/Mac-miller-self-care-lyrics</td><td>yeah</td></tr>\n",
       "\t<tr><td>Intro</td><td>Mac Miller</td><td>Self Care</td><td>Mac Miller</td><td>https://genius.com/Mac-miller-self-care-lyrics</td><td>yeah</td></tr>\n",
       "</tbody>\n",
       "</table>\n"
      ],
      "text/latex": [
       "A tibble: 6 × 6\n",
       "\\begin{tabular}{llllll}\n",
       " section\\_name & section\\_artist & song\\_name & artist\\_name & song\\_lyrics\\_url & word\\\\\n",
       " <chr> & <chr> & <chr> & <chr> & <chr> & <chr>\\\\\n",
       "\\hline\n",
       "\t Intro & Mac Miller & Self Care & Mac Miller & https://genius.com/Mac-miller-self-care-lyrics & mhm \\\\\n",
       "\t Intro & Mac Miller & Self Care & Mac Miller & https://genius.com/Mac-miller-self-care-lyrics & mhm \\\\\n",
       "\t Intro & Mac Miller & Self Care & Mac Miller & https://genius.com/Mac-miller-self-care-lyrics & okay\\\\\n",
       "\t Intro & Mac Miller & Self Care & Mac Miller & https://genius.com/Mac-miller-self-care-lyrics & yeah\\\\\n",
       "\t Intro & Mac Miller & Self Care & Mac Miller & https://genius.com/Mac-miller-self-care-lyrics & yeah\\\\\n",
       "\t Intro & Mac Miller & Self Care & Mac Miller & https://genius.com/Mac-miller-self-care-lyrics & yeah\\\\\n",
       "\\end{tabular}\n"
      ],
      "text/markdown": [
       "\n",
       "A tibble: 6 × 6\n",
       "\n",
       "| section_name &lt;chr&gt; | section_artist &lt;chr&gt; | song_name &lt;chr&gt; | artist_name &lt;chr&gt; | song_lyrics_url &lt;chr&gt; | word &lt;chr&gt; |\n",
       "|---|---|---|---|---|---|\n",
       "| Intro | Mac Miller | Self Care | Mac Miller | https://genius.com/Mac-miller-self-care-lyrics | mhm  |\n",
       "| Intro | Mac Miller | Self Care | Mac Miller | https://genius.com/Mac-miller-self-care-lyrics | mhm  |\n",
       "| Intro | Mac Miller | Self Care | Mac Miller | https://genius.com/Mac-miller-self-care-lyrics | okay |\n",
       "| Intro | Mac Miller | Self Care | Mac Miller | https://genius.com/Mac-miller-self-care-lyrics | yeah |\n",
       "| Intro | Mac Miller | Self Care | Mac Miller | https://genius.com/Mac-miller-self-care-lyrics | yeah |\n",
       "| Intro | Mac Miller | Self Care | Mac Miller | https://genius.com/Mac-miller-self-care-lyrics | yeah |\n",
       "\n"
      ],
      "text/plain": [
       "  section_name section_artist song_name artist_name\n",
       "1 Intro        Mac Miller     Self Care Mac Miller \n",
       "2 Intro        Mac Miller     Self Care Mac Miller \n",
       "3 Intro        Mac Miller     Self Care Mac Miller \n",
       "4 Intro        Mac Miller     Self Care Mac Miller \n",
       "5 Intro        Mac Miller     Self Care Mac Miller \n",
       "6 Intro        Mac Miller     Self Care Mac Miller \n",
       "  song_lyrics_url                                word\n",
       "1 https://genius.com/Mac-miller-self-care-lyrics mhm \n",
       "2 https://genius.com/Mac-miller-self-care-lyrics mhm \n",
       "3 https://genius.com/Mac-miller-self-care-lyrics okay\n",
       "4 https://genius.com/Mac-miller-self-care-lyrics yeah\n",
       "5 https://genius.com/Mac-miller-self-care-lyrics yeah\n",
       "6 https://genius.com/Mac-miller-self-care-lyrics yeah"
      ]
     },
     "metadata": {},
     "output_type": "display_data"
    }
   ],
   "source": [
    "split <- unnest_tokens(tbl = song1, output = word, input = line, token = \"words\", to_lower = TRUE)\n",
    "head(split)\n",
    "\n",
    "data(stop_words)\n",
    "head(stop_words)\n",
    "# ! means not and %in% just means inside the stop_words list. So we are not filtering words that in the stop_words package (i think? familiarize with filter)\n",
    "# top <- filter(split!word %in% afinn$v1)\n",
    "\n",
    "head(top)\n",
    "# top_counts <- count(x = top, word, sort = TRUE)\n",
    "\n",
    "# head(top_counts)"
   ]
  },
  {
   "cell_type": "markdown",
   "metadata": {},
   "source": [
    "We can also unnest_tokens on our corpus of several songs. Now we can start graphing!"
   ]
  },
  {
   "cell_type": "code",
   "execution_count": 201,
   "metadata": {},
   "outputs": [
    {
     "data": {
      "text/html": [
       "<table>\n",
       "<caption>A tibble: 21 × 2</caption>\n",
       "<thead>\n",
       "\t<tr><th scope=col>word</th><th scope=col>n</th></tr>\n",
       "\t<tr><th scope=col>&lt;fct&gt;</th><th scope=col>&lt;int&gt;</th></tr>\n",
       "</thead>\n",
       "<tbody>\n",
       "\t<tr><td>the  </td><td>88</td></tr>\n",
       "\t<tr><td>it   </td><td>64</td></tr>\n",
       "\t<tr><td>you  </td><td>64</td></tr>\n",
       "\t<tr><td>and  </td><td>54</td></tr>\n",
       "\t<tr><td>to   </td><td>50</td></tr>\n",
       "\t<tr><td>a    </td><td>49</td></tr>\n",
       "\t<tr><td>me   </td><td>40</td></tr>\n",
       "\t<tr><td>no   </td><td>38</td></tr>\n",
       "\t<tr><td>don't</td><td>37</td></tr>\n",
       "\t<tr><td>that </td><td>34</td></tr>\n",
       "\t<tr><td>my   </td><td>33</td></tr>\n",
       "\t<tr><td>i'm  </td><td>30</td></tr>\n",
       "\t<tr><td>more </td><td>29</td></tr>\n",
       "\t<tr><td>all  </td><td>28</td></tr>\n",
       "\t<tr><td>ain't</td><td>27</td></tr>\n",
       "\t<tr><td>be   </td><td>27</td></tr>\n",
       "\t<tr><td>know </td><td>27</td></tr>\n",
       "\t<tr><td>in   </td><td>26</td></tr>\n",
       "\t<tr><td>we   </td><td>26</td></tr>\n",
       "\t<tr><td>but  </td><td>21</td></tr>\n",
       "\t<tr><td>out  </td><td>21</td></tr>\n",
       "</tbody>\n",
       "</table>\n"
      ],
      "text/latex": [
       "A tibble: 21 × 2\n",
       "\\begin{tabular}{ll}\n",
       " word & n\\\\\n",
       " <fct> & <int>\\\\\n",
       "\\hline\n",
       "\t the   & 88\\\\\n",
       "\t it    & 64\\\\\n",
       "\t you   & 64\\\\\n",
       "\t and   & 54\\\\\n",
       "\t to    & 50\\\\\n",
       "\t a     & 49\\\\\n",
       "\t me    & 40\\\\\n",
       "\t no    & 38\\\\\n",
       "\t don't & 37\\\\\n",
       "\t that  & 34\\\\\n",
       "\t my    & 33\\\\\n",
       "\t i'm   & 30\\\\\n",
       "\t more  & 29\\\\\n",
       "\t all   & 28\\\\\n",
       "\t ain't & 27\\\\\n",
       "\t be    & 27\\\\\n",
       "\t know  & 27\\\\\n",
       "\t in    & 26\\\\\n",
       "\t we    & 26\\\\\n",
       "\t but   & 21\\\\\n",
       "\t out   & 21\\\\\n",
       "\\end{tabular}\n"
      ],
      "text/markdown": [
       "\n",
       "A tibble: 21 × 2\n",
       "\n",
       "| word &lt;fct&gt; | n &lt;int&gt; |\n",
       "|---|---|\n",
       "| the   | 88 |\n",
       "| it    | 64 |\n",
       "| you   | 64 |\n",
       "| and   | 54 |\n",
       "| to    | 50 |\n",
       "| a     | 49 |\n",
       "| me    | 40 |\n",
       "| no    | 38 |\n",
       "| don't | 37 |\n",
       "| that  | 34 |\n",
       "| my    | 33 |\n",
       "| i'm   | 30 |\n",
       "| more  | 29 |\n",
       "| all   | 28 |\n",
       "| ain't | 27 |\n",
       "| be    | 27 |\n",
       "| know  | 27 |\n",
       "| in    | 26 |\n",
       "| we    | 26 |\n",
       "| but   | 21 |\n",
       "| out   | 21 |\n",
       "\n"
      ],
      "text/plain": [
       "   word  n \n",
       "1  the   88\n",
       "2  it    64\n",
       "3  you   64\n",
       "4  and   54\n",
       "5  to    50\n",
       "6  a     49\n",
       "7  me    40\n",
       "8  no    38\n",
       "9  don't 37\n",
       "10 that  34\n",
       "11 my    33\n",
       "12 i'm   30\n",
       "13 more  29\n",
       "14 all   28\n",
       "15 ain't 27\n",
       "16 be    27\n",
       "17 know  27\n",
       "18 in    26\n",
       "19 we    26\n",
       "20 but   21\n",
       "21 out   21"
      ]
     },
     "metadata": {},
     "output_type": "display_data"
    },
    {
     "data": {
      "image/png": "[encoded data removed]",
      "text/plain": [
       "plot without title"
      ]
     },
     "metadata": {
      "image/png": {
       "height": 420,
       "width": 420
      }
     },
     "output_type": "display_data"
    }
   ],
   "source": [
    "split <- unnest_tokens(tbl = songs, output = word, input = line, token = \"words\", to_lower = TRUE)\n",
    "\n",
    "data(stop_words)\n",
    "# stop_words\n",
    "\n",
    "top <- split %>% filter(!word %in% stop_words) %>% filter(word != 'i') %>% filter(word != 'yeah')\n",
    "\n",
    "#reorder puts it in desc order\n",
    "top_counts <- count(x = top, word, sort = TRUE) %>% top_n(20, wt = n) %>% mutate(word = reorder(word,n))\n",
    "top_counts \n",
    "\n",
    "graph <- ggplot(top_counts, aes(n,word)) +\n",
    "    geom_col()\n",
    "graph\n"
   ]
  },
  {
   "cell_type": "markdown",
   "metadata": {},
   "source": [
    "we can also use bigrams!"
   ]
  },
  {
   "cell_type": "code",
   "execution_count": 191,
   "metadata": {},
   "outputs": [
    {
     "data": {
      "text/html": [
       "<table>\n",
       "<caption>A tibble: 21 × 2</caption>\n",
       "<thead>\n",
       "\t<tr><th scope=col>word</th><th scope=col>n</th></tr>\n",
       "\t<tr><th scope=col>&lt;fct&gt;</th><th scope=col>&lt;int&gt;</th></tr>\n",
       "</thead>\n",
       "<tbody>\n",
       "\t<tr><td>yeah yeah    </td><td>38</td></tr>\n",
       "\t<tr><td>no more      </td><td>26</td></tr>\n",
       "\t<tr><td>i don't      </td><td>19</td></tr>\n",
       "\t<tr><td>i know       </td><td>14</td></tr>\n",
       "\t<tr><td>oblivion yeah</td><td>12</td></tr>\n",
       "\t<tr><td>by the       </td><td>10</td></tr>\n",
       "\t<tr><td>it ain't     </td><td>10</td></tr>\n",
       "\t<tr><td>the time     </td><td>10</td></tr>\n",
       "\t<tr><td>the weekend  </td><td>10</td></tr>\n",
       "\t<tr><td>going out    </td><td> 8</td></tr>\n",
       "\t<tr><td>good by      </td><td> 8</td></tr>\n",
       "\t<tr><td>i ain't      </td><td> 8</td></tr>\n",
       "\t<tr><td>out tonight  </td><td> 8</td></tr>\n",
       "\t<tr><td>that i       </td><td> 8</td></tr>\n",
       "\t<tr><td>we going     </td><td> 8</td></tr>\n",
       "\t<tr><td>all the      </td><td> 7</td></tr>\n",
       "\t<tr><td>can you      </td><td> 7</td></tr>\n",
       "\t<tr><td>i been       </td><td> 7</td></tr>\n",
       "\t<tr><td>in the       </td><td> 7</td></tr>\n",
       "\t<tr><td>it all       </td><td> 7</td></tr>\n",
       "\t<tr><td>yeah i       </td><td> 7</td></tr>\n",
       "</tbody>\n",
       "</table>\n"
      ],
      "text/latex": [
       "A tibble: 21 × 2\n",
       "\\begin{tabular}{ll}\n",
       " word & n\\\\\n",
       " <fct> & <int>\\\\\n",
       "\\hline\n",
       "\t yeah yeah     & 38\\\\\n",
       "\t no more       & 26\\\\\n",
       "\t i don't       & 19\\\\\n",
       "\t i know        & 14\\\\\n",
       "\t oblivion yeah & 12\\\\\n",
       "\t by the        & 10\\\\\n",
       "\t it ain't      & 10\\\\\n",
       "\t the time      & 10\\\\\n",
       "\t the weekend   & 10\\\\\n",
       "\t going out     &  8\\\\\n",
       "\t good by       &  8\\\\\n",
       "\t i ain't       &  8\\\\\n",
       "\t out tonight   &  8\\\\\n",
       "\t that i        &  8\\\\\n",
       "\t we going      &  8\\\\\n",
       "\t all the       &  7\\\\\n",
       "\t can you       &  7\\\\\n",
       "\t i been        &  7\\\\\n",
       "\t in the        &  7\\\\\n",
       "\t it all        &  7\\\\\n",
       "\t yeah i        &  7\\\\\n",
       "\\end{tabular}\n"
      ],
      "text/markdown": [
       "\n",
       "A tibble: 21 × 2\n",
       "\n",
       "| word &lt;fct&gt; | n &lt;int&gt; |\n",
       "|---|---|\n",
       "| yeah yeah     | 38 |\n",
       "| no more       | 26 |\n",
       "| i don't       | 19 |\n",
       "| i know        | 14 |\n",
       "| oblivion yeah | 12 |\n",
       "| by the        | 10 |\n",
       "| it ain't      | 10 |\n",
       "| the time      | 10 |\n",
       "| the weekend   | 10 |\n",
       "| going out     |  8 |\n",
       "| good by       |  8 |\n",
       "| i ain't       |  8 |\n",
       "| out tonight   |  8 |\n",
       "| that i        |  8 |\n",
       "| we going      |  8 |\n",
       "| all the       |  7 |\n",
       "| can you       |  7 |\n",
       "| i been        |  7 |\n",
       "| in the        |  7 |\n",
       "| it all        |  7 |\n",
       "| yeah i        |  7 |\n",
       "\n"
      ],
      "text/plain": [
       "   word          n \n",
       "1  yeah yeah     38\n",
       "2  no more       26\n",
       "3  i don't       19\n",
       "4  i know        14\n",
       "5  oblivion yeah 12\n",
       "6  by the        10\n",
       "7  it ain't      10\n",
       "8  the time      10\n",
       "9  the weekend   10\n",
       "10 going out      8\n",
       "11 good by        8\n",
       "12 i ain't        8\n",
       "13 out tonight    8\n",
       "14 that i         8\n",
       "15 we going       8\n",
       "16 all the        7\n",
       "17 can you        7\n",
       "18 i been         7\n",
       "19 in the         7\n",
       "20 it all         7\n",
       "21 yeah i         7"
      ]
     },
     "metadata": {},
     "output_type": "display_data"
    },
    {
     "data": {
      "image/png": "[encoded data removed]",
      "text/plain": [
       "plot without title"
      ]
     },
     "metadata": {
      "image/png": {
       "height": 420,
       "width": 420
      }
     },
     "output_type": "display_data"
    }
   ],
   "source": [
    "split <- unnest_tokens(tbl = songs, output = word, input = line, token = \"ngrams\", n = 2, to_lower = TRUE)\n",
    "\n",
    "data(stop_words)\n",
    "# stop_words\n",
    "\n",
    "top <- split %>% filter(!word %in% stop_words) %>% filter(word != 'i') %>% filter(word != 'yeah')\n",
    "\n",
    "#reorder puts it in desc order\n",
    "top_counts <- count(x = top, word, sort = TRUE) %>% top_n(20, wt = n) %>% mutate(word = reorder(word,n))\n",
    "top_counts \n",
    "\n",
    "graph <- ggplot(top_counts, aes(n,word)) +\n",
    "    geom_col()\n",
    "graph\n"
   ]
  },
  {
   "cell_type": "markdown",
   "metadata": {},
   "source": [
    "or skip grams!"
   ]
  },
  {
   "cell_type": "code",
   "execution_count": 164,
   "metadata": {},
   "outputs": [
    {
     "data": {
      "text/html": [
       "<table>\n",
       "<caption>A tibble: 12 × 2</caption>\n",
       "<thead>\n",
       "\t<tr><th scope=col>word</th><th scope=col>n</th></tr>\n",
       "\t<tr><th scope=col>&lt;fct&gt;</th><th scope=col>&lt;int&gt;</th></tr>\n",
       "</thead>\n",
       "<tbody>\n",
       "\t<tr><td>yeah yeah yeah    </td><td>18</td></tr>\n",
       "\t<tr><td>oblivion yeah yeah</td><td>12</td></tr>\n",
       "\t<tr><td>by the weekend    </td><td>10</td></tr>\n",
       "\t<tr><td>going out tonight </td><td> 8</td></tr>\n",
       "\t<tr><td>good by the       </td><td> 8</td></tr>\n",
       "\t<tr><td>we going out      </td><td> 8</td></tr>\n",
       "\t<tr><td>be good by        </td><td> 6</td></tr>\n",
       "\t<tr><td>more no more      </td><td> 6</td></tr>\n",
       "\t<tr><td>no more no        </td><td> 6</td></tr>\n",
       "\t<tr><td>all i do          </td><td> 5</td></tr>\n",
       "\t<tr><td>i do is           </td><td> 5</td></tr>\n",
       "\t<tr><td>o o o             </td><td> 5</td></tr>\n",
       "</tbody>\n",
       "</table>\n"
      ],
      "text/latex": [
       "A tibble: 12 × 2\n",
       "\\begin{tabular}{ll}\n",
       " word & n\\\\\n",
       " <fct> & <int>\\\\\n",
       "\\hline\n",
       "\t yeah yeah yeah     & 18\\\\\n",
       "\t oblivion yeah yeah & 12\\\\\n",
       "\t by the weekend     & 10\\\\\n",
       "\t going out tonight  &  8\\\\\n",
       "\t good by the        &  8\\\\\n",
       "\t we going out       &  8\\\\\n",
       "\t be good by         &  6\\\\\n",
       "\t more no more       &  6\\\\\n",
       "\t no more no         &  6\\\\\n",
       "\t all i do           &  5\\\\\n",
       "\t i do is            &  5\\\\\n",
       "\t o o o              &  5\\\\\n",
       "\\end{tabular}\n"
      ],
      "text/markdown": [
       "\n",
       "A tibble: 12 × 2\n",
       "\n",
       "| word &lt;fct&gt; | n &lt;int&gt; |\n",
       "|---|---|\n",
       "| yeah yeah yeah     | 18 |\n",
       "| oblivion yeah yeah | 12 |\n",
       "| by the weekend     | 10 |\n",
       "| going out tonight  |  8 |\n",
       "| good by the        |  8 |\n",
       "| we going out       |  8 |\n",
       "| be good by         |  6 |\n",
       "| more no more       |  6 |\n",
       "| no more no         |  6 |\n",
       "| all i do           |  5 |\n",
       "| i do is            |  5 |\n",
       "| o o o              |  5 |\n",
       "\n"
      ],
      "text/plain": [
       "   word               n \n",
       "1  yeah yeah yeah     18\n",
       "2  oblivion yeah yeah 12\n",
       "3  by the weekend     10\n",
       "4  going out tonight   8\n",
       "5  good by the         8\n",
       "6  we going out        8\n",
       "7  be good by          6\n",
       "8  more no more        6\n",
       "9  no more no          6\n",
       "10 all i do            5\n",
       "11 i do is             5\n",
       "12 o o o               5"
      ]
     },
     "metadata": {},
     "output_type": "display_data"
    },
    {
     "data": {
      "image/png": "[encoded data removed]",
      "text/plain": [
       "plot without title"
      ]
     },
     "metadata": {
      "image/png": {
       "height": 420,
       "width": 420
      }
     },
     "output_type": "display_data"
    }
   ],
   "source": [
    "split <- unnest_tokens(tbl = songs, output = word, input = line, token = \"ngrams\", n = 3, to_lower = TRUE)\n",
    "\n",
    "data(stop_words)\n",
    "\n",
    "top <- split %>% filter(!word %in% stop_words) %>% filter(word != 'i') %>% filter(word != 'yeah')\n",
    "\n",
    "#reorder puts it in desc order\n",
    "top_counts <- count(x = top, word, sort = TRUE) %>% top_n(10, wt = n) %>% mutate(word = reorder(word,n))\n",
    "top_counts \n",
    "\n",
    "graph <- ggplot(top_counts, aes(n,word)) +\n",
    "    geom_col()\n",
    "graph\n"
   ]
  },
  {
   "cell_type": "code",
   "execution_count": null,
   "metadata": {},
   "outputs": [],
   "source": []
  }
 ],
 "metadata": {
  "kernelspec": {
   "display_name": "R",
   "language": "R",
   "name": "ir"
  },
  "language_info": {
   "codemirror_mode": "r",
   "file_extension": ".r",
   "mimetype": "text/x-r-source",
   "name": "R",
   "pygments_lexer": "r",
   "version": "4.0.3"
  }
 },
 "nbformat": 4,
 "nbformat_minor": 4
}
